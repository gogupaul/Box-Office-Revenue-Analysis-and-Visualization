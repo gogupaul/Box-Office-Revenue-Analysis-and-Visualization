{
 "cells": [
  {
   "attachments": {},
   "cell_type": "markdown",
   "metadata": {},
   "source": [
    "Introduction\n",
    "In a world… where movies made an estimated $41.7 billion in 2018, the film industry is more popular than ever. But what movies make the most money at the box office? How much does a director matter? Or the budget? For some movies, it's \"You had me at 'Hello.'\" For others, the trailer falls short of expectations and you think \"What we have here is a failure to communicate.\"\n",
    "\n",
    "In this kernel I am going to answer some of the questions."
   ]
  },
  {
   "cell_type": "code",
   "execution_count": 29,
   "metadata": {},
   "outputs": [],
   "source": [
    "# Import required libraries\n",
    "\n",
    "import pandas as pd\n",
    "import numpy as np\n",
    "\n",
    "# Libraties for visualizations\n",
    "\n",
    "import matplotlib.pyplot as plt\n",
    "import seaborn as sns\n",
    "\n",
    "%matplotlib inline\n",
    "plt.style.use('dark_background')\n",
    "\n",
    "# Display multiple poutput in single cell\n",
    "\n",
    "from IPython.display import display\n",
    "from IPython.core.interactiveshell import InteractiveShell\n",
    "InteractiveShell.ast_node_interactivity='all'\n",
    "\n",
    "# Data\n",
    "\n",
    "# data\n",
    "import os\n",
    "for dirname, _, filenames in os.walk('/kaggle/input'):\n",
    "    for filename in filenames:\n",
    "        print(os.path.join(dirname, filename))"
   ]
  },
  {
   "attachments": {},
   "cell_type": "markdown",
   "metadata": {},
   "source": [
    "Data Loading and Exploration\n",
    "\n",
    "Let's add only train data for now because my main goal for this notebook is to perform data analysis task and not a submisison"
   ]
  },
  {
   "cell_type": "code",
   "execution_count": 30,
   "metadata": {},
   "outputs": [],
   "source": [
    " train = pd.read_csv('train.csv')"
   ]
  },
  {
   "cell_type": "code",
   "execution_count": 31,
   "metadata": {},
   "outputs": [
    {
     "data": {
      "text/html": [
       "<div>\n",
       "<style scoped>\n",
       "    .dataframe tbody tr th:only-of-type {\n",
       "        vertical-align: middle;\n",
       "    }\n",
       "\n",
       "    .dataframe tbody tr th {\n",
       "        vertical-align: top;\n",
       "    }\n",
       "\n",
       "    .dataframe thead th {\n",
       "        text-align: right;\n",
       "    }\n",
       "</style>\n",
       "<table border=\"1\" class=\"dataframe\">\n",
       "  <thead>\n",
       "    <tr style=\"text-align: right;\">\n",
       "      <th></th>\n",
       "      <th>id</th>\n",
       "      <th>belongs_to_collection</th>\n",
       "      <th>budget</th>\n",
       "      <th>genres</th>\n",
       "      <th>homepage</th>\n",
       "      <th>imdb_id</th>\n",
       "      <th>original_language</th>\n",
       "      <th>original_title</th>\n",
       "      <th>overview</th>\n",
       "      <th>popularity</th>\n",
       "      <th>...</th>\n",
       "      <th>release_date</th>\n",
       "      <th>runtime</th>\n",
       "      <th>spoken_languages</th>\n",
       "      <th>status</th>\n",
       "      <th>tagline</th>\n",
       "      <th>title</th>\n",
       "      <th>Keywords</th>\n",
       "      <th>cast</th>\n",
       "      <th>crew</th>\n",
       "      <th>revenue</th>\n",
       "    </tr>\n",
       "  </thead>\n",
       "  <tbody>\n",
       "    <tr>\n",
       "      <th>0</th>\n",
       "      <td>1</td>\n",
       "      <td>[{'id': 313576, 'name': 'Hot Tub Time Machine ...</td>\n",
       "      <td>14000000</td>\n",
       "      <td>[{'id': 35, 'name': 'Comedy'}]</td>\n",
       "      <td>NaN</td>\n",
       "      <td>tt2637294</td>\n",
       "      <td>en</td>\n",
       "      <td>Hot Tub Time Machine 2</td>\n",
       "      <td>When Lou, who has become the \"father of the In...</td>\n",
       "      <td>6.575393</td>\n",
       "      <td>...</td>\n",
       "      <td>2/20/15</td>\n",
       "      <td>93.0</td>\n",
       "      <td>[{'iso_639_1': 'en', 'name': 'English'}]</td>\n",
       "      <td>Released</td>\n",
       "      <td>The Laws of Space and Time are About to be Vio...</td>\n",
       "      <td>Hot Tub Time Machine 2</td>\n",
       "      <td>[{'id': 4379, 'name': 'time travel'}, {'id': 9...</td>\n",
       "      <td>[{'cast_id': 4, 'character': 'Lou', 'credit_id...</td>\n",
       "      <td>[{'credit_id': '59ac067c92514107af02c8c8', 'de...</td>\n",
       "      <td>12314651</td>\n",
       "    </tr>\n",
       "    <tr>\n",
       "      <th>1</th>\n",
       "      <td>2</td>\n",
       "      <td>[{'id': 107674, 'name': 'The Princess Diaries ...</td>\n",
       "      <td>40000000</td>\n",
       "      <td>[{'id': 35, 'name': 'Comedy'}, {'id': 18, 'nam...</td>\n",
       "      <td>NaN</td>\n",
       "      <td>tt0368933</td>\n",
       "      <td>en</td>\n",
       "      <td>The Princess Diaries 2: Royal Engagement</td>\n",
       "      <td>Mia Thermopolis is now a college graduate and ...</td>\n",
       "      <td>8.248895</td>\n",
       "      <td>...</td>\n",
       "      <td>8/6/04</td>\n",
       "      <td>113.0</td>\n",
       "      <td>[{'iso_639_1': 'en', 'name': 'English'}]</td>\n",
       "      <td>Released</td>\n",
       "      <td>It can take a lifetime to find true love; she'...</td>\n",
       "      <td>The Princess Diaries 2: Royal Engagement</td>\n",
       "      <td>[{'id': 2505, 'name': 'coronation'}, {'id': 42...</td>\n",
       "      <td>[{'cast_id': 1, 'character': 'Mia Thermopolis'...</td>\n",
       "      <td>[{'credit_id': '52fe43fe9251416c7502563d', 'de...</td>\n",
       "      <td>95149435</td>\n",
       "    </tr>\n",
       "    <tr>\n",
       "      <th>2</th>\n",
       "      <td>3</td>\n",
       "      <td>NaN</td>\n",
       "      <td>3300000</td>\n",
       "      <td>[{'id': 18, 'name': 'Drama'}]</td>\n",
       "      <td>http://sonyclassics.com/whiplash/</td>\n",
       "      <td>tt2582802</td>\n",
       "      <td>en</td>\n",
       "      <td>Whiplash</td>\n",
       "      <td>Under the direction of a ruthless instructor, ...</td>\n",
       "      <td>64.299990</td>\n",
       "      <td>...</td>\n",
       "      <td>10/10/14</td>\n",
       "      <td>105.0</td>\n",
       "      <td>[{'iso_639_1': 'en', 'name': 'English'}]</td>\n",
       "      <td>Released</td>\n",
       "      <td>The road to greatness can take you to the edge.</td>\n",
       "      <td>Whiplash</td>\n",
       "      <td>[{'id': 1416, 'name': 'jazz'}, {'id': 1523, 'n...</td>\n",
       "      <td>[{'cast_id': 5, 'character': 'Andrew Neimann',...</td>\n",
       "      <td>[{'credit_id': '54d5356ec3a3683ba0000039', 'de...</td>\n",
       "      <td>13092000</td>\n",
       "    </tr>\n",
       "    <tr>\n",
       "      <th>3</th>\n",
       "      <td>4</td>\n",
       "      <td>NaN</td>\n",
       "      <td>1200000</td>\n",
       "      <td>[{'id': 53, 'name': 'Thriller'}, {'id': 18, 'n...</td>\n",
       "      <td>http://kahaanithefilm.com/</td>\n",
       "      <td>tt1821480</td>\n",
       "      <td>hi</td>\n",
       "      <td>Kahaani</td>\n",
       "      <td>Vidya Bagchi (Vidya Balan) arrives in Kolkata ...</td>\n",
       "      <td>3.174936</td>\n",
       "      <td>...</td>\n",
       "      <td>3/9/12</td>\n",
       "      <td>122.0</td>\n",
       "      <td>[{'iso_639_1': 'en', 'name': 'English'}, {'iso...</td>\n",
       "      <td>Released</td>\n",
       "      <td>NaN</td>\n",
       "      <td>Kahaani</td>\n",
       "      <td>[{'id': 10092, 'name': 'mystery'}, {'id': 1054...</td>\n",
       "      <td>[{'cast_id': 1, 'character': 'Vidya Bagchi', '...</td>\n",
       "      <td>[{'credit_id': '52fe48779251416c9108d6eb', 'de...</td>\n",
       "      <td>16000000</td>\n",
       "    </tr>\n",
       "    <tr>\n",
       "      <th>4</th>\n",
       "      <td>5</td>\n",
       "      <td>NaN</td>\n",
       "      <td>0</td>\n",
       "      <td>[{'id': 28, 'name': 'Action'}, {'id': 53, 'nam...</td>\n",
       "      <td>NaN</td>\n",
       "      <td>tt1380152</td>\n",
       "      <td>ko</td>\n",
       "      <td>마린보이</td>\n",
       "      <td>Marine Boy is the story of a former national s...</td>\n",
       "      <td>1.148070</td>\n",
       "      <td>...</td>\n",
       "      <td>2/5/09</td>\n",
       "      <td>118.0</td>\n",
       "      <td>[{'iso_639_1': 'ko', 'name': '한국어/조선말'}]</td>\n",
       "      <td>Released</td>\n",
       "      <td>NaN</td>\n",
       "      <td>Marine Boy</td>\n",
       "      <td>NaN</td>\n",
       "      <td>[{'cast_id': 3, 'character': 'Chun-soo', 'cred...</td>\n",
       "      <td>[{'credit_id': '52fe464b9251416c75073b43', 'de...</td>\n",
       "      <td>3923970</td>\n",
       "    </tr>\n",
       "    <tr>\n",
       "      <th>5</th>\n",
       "      <td>6</td>\n",
       "      <td>NaN</td>\n",
       "      <td>8000000</td>\n",
       "      <td>[{'id': 16, 'name': 'Animation'}, {'id': 12, '...</td>\n",
       "      <td>NaN</td>\n",
       "      <td>tt0093743</td>\n",
       "      <td>en</td>\n",
       "      <td>Pinocchio and the Emperor of the Night</td>\n",
       "      <td>Pinocchio and his friends, a glow worm and a m...</td>\n",
       "      <td>0.743274</td>\n",
       "      <td>...</td>\n",
       "      <td>8/6/87</td>\n",
       "      <td>83.0</td>\n",
       "      <td>[{'iso_639_1': 'en', 'name': 'English'}]</td>\n",
       "      <td>Released</td>\n",
       "      <td>NaN</td>\n",
       "      <td>Pinocchio and the Emperor of the Night</td>\n",
       "      <td>NaN</td>\n",
       "      <td>[{'cast_id': 6, 'character': 'Pinocchio (voice...</td>\n",
       "      <td>[{'credit_id': '52fe46f49251416c9106558b', 'de...</td>\n",
       "      <td>3261638</td>\n",
       "    </tr>\n",
       "    <tr>\n",
       "      <th>6</th>\n",
       "      <td>7</td>\n",
       "      <td>NaN</td>\n",
       "      <td>14000000</td>\n",
       "      <td>[{'id': 27, 'name': 'Horror'}, {'id': 53, 'nam...</td>\n",
       "      <td>http://www.thepossessionmovie.com/</td>\n",
       "      <td>tt0431021</td>\n",
       "      <td>en</td>\n",
       "      <td>The Possession</td>\n",
       "      <td>A young girl buys an antique box at a yard sal...</td>\n",
       "      <td>7.286477</td>\n",
       "      <td>...</td>\n",
       "      <td>8/30/12</td>\n",
       "      <td>92.0</td>\n",
       "      <td>[{'iso_639_1': 'en', 'name': 'English'}]</td>\n",
       "      <td>Released</td>\n",
       "      <td>Fear The Demon That Doesn't Fear God</td>\n",
       "      <td>The Possession</td>\n",
       "      <td>NaN</td>\n",
       "      <td>[{'cast_id': 23, 'character': 'Clyde', 'credit...</td>\n",
       "      <td>[{'credit_id': '52fe4981c3a368484e12ee29', 'de...</td>\n",
       "      <td>85446075</td>\n",
       "    </tr>\n",
       "    <tr>\n",
       "      <th>7</th>\n",
       "      <td>8</td>\n",
       "      <td>NaN</td>\n",
       "      <td>0</td>\n",
       "      <td>[{'id': 99, 'name': 'Documentary'}]</td>\n",
       "      <td>NaN</td>\n",
       "      <td>tt0391024</td>\n",
       "      <td>en</td>\n",
       "      <td>Control Room</td>\n",
       "      <td>A chronicle which provides a rare window into ...</td>\n",
       "      <td>1.949044</td>\n",
       "      <td>...</td>\n",
       "      <td>1/15/04</td>\n",
       "      <td>84.0</td>\n",
       "      <td>[{'iso_639_1': 'ar', 'name': 'العربية'}, {'iso...</td>\n",
       "      <td>Released</td>\n",
       "      <td>Different channels. Different truths.</td>\n",
       "      <td>Control Room</td>\n",
       "      <td>[{'id': 917, 'name': 'journalism'}, {'id': 163...</td>\n",
       "      <td>[{'cast_id': 2, 'character': 'Himself', 'credi...</td>\n",
       "      <td>[{'credit_id': '52fe47a69251416c750a0daf', 'de...</td>\n",
       "      <td>2586511</td>\n",
       "    </tr>\n",
       "    <tr>\n",
       "      <th>8</th>\n",
       "      <td>9</td>\n",
       "      <td>[{'id': 256377, 'name': 'The Muppet Collection...</td>\n",
       "      <td>0</td>\n",
       "      <td>[{'id': 28, 'name': 'Action'}, {'id': 35, 'nam...</td>\n",
       "      <td>NaN</td>\n",
       "      <td>tt0117110</td>\n",
       "      <td>en</td>\n",
       "      <td>Muppet Treasure Island</td>\n",
       "      <td>After telling the story of Flint's last journe...</td>\n",
       "      <td>6.902423</td>\n",
       "      <td>...</td>\n",
       "      <td>2/16/96</td>\n",
       "      <td>100.0</td>\n",
       "      <td>[{'iso_639_1': 'en', 'name': 'English'}]</td>\n",
       "      <td>Released</td>\n",
       "      <td>Set sail for Muppet mayhem!</td>\n",
       "      <td>Muppet Treasure Island</td>\n",
       "      <td>[{'id': 2041, 'name': 'island'}, {'id': 4418, ...</td>\n",
       "      <td>[{'cast_id': 1, 'character': 'Long John Silver...</td>\n",
       "      <td>[{'credit_id': '52fe43c89251416c7501deb3', 'de...</td>\n",
       "      <td>34327391</td>\n",
       "    </tr>\n",
       "    <tr>\n",
       "      <th>9</th>\n",
       "      <td>10</td>\n",
       "      <td>NaN</td>\n",
       "      <td>6000000</td>\n",
       "      <td>[{'id': 35, 'name': 'Comedy'}, {'id': 10402, '...</td>\n",
       "      <td>NaN</td>\n",
       "      <td>tt0310281</td>\n",
       "      <td>en</td>\n",
       "      <td>A Mighty Wind</td>\n",
       "      <td>In \"A Mighty Wind\", director Christopher Guest...</td>\n",
       "      <td>4.672036</td>\n",
       "      <td>...</td>\n",
       "      <td>4/16/03</td>\n",
       "      <td>91.0</td>\n",
       "      <td>[{'iso_639_1': 'en', 'name': 'English'}]</td>\n",
       "      <td>Released</td>\n",
       "      <td>Back together for the first time, again.</td>\n",
       "      <td>A Mighty Wind</td>\n",
       "      <td>[{'id': 11800, 'name': 'mockumentary'}, {'id':...</td>\n",
       "      <td>[{'cast_id': 24, 'character': 'Jonathan Steinb...</td>\n",
       "      <td>[{'credit_id': '52fe45609251416c750545b3', 'de...</td>\n",
       "      <td>18750246</td>\n",
       "    </tr>\n",
       "  </tbody>\n",
       "</table>\n",
       "<p>10 rows × 23 columns</p>\n",
       "</div>"
      ],
      "text/plain": [
       "   id                              belongs_to_collection    budget  \\\n",
       "0   1  [{'id': 313576, 'name': 'Hot Tub Time Machine ...  14000000   \n",
       "1   2  [{'id': 107674, 'name': 'The Princess Diaries ...  40000000   \n",
       "2   3                                                NaN   3300000   \n",
       "3   4                                                NaN   1200000   \n",
       "4   5                                                NaN         0   \n",
       "5   6                                                NaN   8000000   \n",
       "6   7                                                NaN  14000000   \n",
       "7   8                                                NaN         0   \n",
       "8   9  [{'id': 256377, 'name': 'The Muppet Collection...         0   \n",
       "9  10                                                NaN   6000000   \n",
       "\n",
       "                                              genres  \\\n",
       "0                     [{'id': 35, 'name': 'Comedy'}]   \n",
       "1  [{'id': 35, 'name': 'Comedy'}, {'id': 18, 'nam...   \n",
       "2                      [{'id': 18, 'name': 'Drama'}]   \n",
       "3  [{'id': 53, 'name': 'Thriller'}, {'id': 18, 'n...   \n",
       "4  [{'id': 28, 'name': 'Action'}, {'id': 53, 'nam...   \n",
       "5  [{'id': 16, 'name': 'Animation'}, {'id': 12, '...   \n",
       "6  [{'id': 27, 'name': 'Horror'}, {'id': 53, 'nam...   \n",
       "7                [{'id': 99, 'name': 'Documentary'}]   \n",
       "8  [{'id': 28, 'name': 'Action'}, {'id': 35, 'nam...   \n",
       "9  [{'id': 35, 'name': 'Comedy'}, {'id': 10402, '...   \n",
       "\n",
       "                             homepage    imdb_id original_language  \\\n",
       "0                                 NaN  tt2637294                en   \n",
       "1                                 NaN  tt0368933                en   \n",
       "2   http://sonyclassics.com/whiplash/  tt2582802                en   \n",
       "3          http://kahaanithefilm.com/  tt1821480                hi   \n",
       "4                                 NaN  tt1380152                ko   \n",
       "5                                 NaN  tt0093743                en   \n",
       "6  http://www.thepossessionmovie.com/  tt0431021                en   \n",
       "7                                 NaN  tt0391024                en   \n",
       "8                                 NaN  tt0117110                en   \n",
       "9                                 NaN  tt0310281                en   \n",
       "\n",
       "                             original_title  \\\n",
       "0                    Hot Tub Time Machine 2   \n",
       "1  The Princess Diaries 2: Royal Engagement   \n",
       "2                                  Whiplash   \n",
       "3                                   Kahaani   \n",
       "4                                      마린보이   \n",
       "5    Pinocchio and the Emperor of the Night   \n",
       "6                            The Possession   \n",
       "7                              Control Room   \n",
       "8                    Muppet Treasure Island   \n",
       "9                             A Mighty Wind   \n",
       "\n",
       "                                            overview  popularity  ...  \\\n",
       "0  When Lou, who has become the \"father of the In...    6.575393  ...   \n",
       "1  Mia Thermopolis is now a college graduate and ...    8.248895  ...   \n",
       "2  Under the direction of a ruthless instructor, ...   64.299990  ...   \n",
       "3  Vidya Bagchi (Vidya Balan) arrives in Kolkata ...    3.174936  ...   \n",
       "4  Marine Boy is the story of a former national s...    1.148070  ...   \n",
       "5  Pinocchio and his friends, a glow worm and a m...    0.743274  ...   \n",
       "6  A young girl buys an antique box at a yard sal...    7.286477  ...   \n",
       "7  A chronicle which provides a rare window into ...    1.949044  ...   \n",
       "8  After telling the story of Flint's last journe...    6.902423  ...   \n",
       "9  In \"A Mighty Wind\", director Christopher Guest...    4.672036  ...   \n",
       "\n",
       "  release_date runtime                                   spoken_languages  \\\n",
       "0      2/20/15    93.0           [{'iso_639_1': 'en', 'name': 'English'}]   \n",
       "1       8/6/04   113.0           [{'iso_639_1': 'en', 'name': 'English'}]   \n",
       "2     10/10/14   105.0           [{'iso_639_1': 'en', 'name': 'English'}]   \n",
       "3       3/9/12   122.0  [{'iso_639_1': 'en', 'name': 'English'}, {'iso...   \n",
       "4       2/5/09   118.0           [{'iso_639_1': 'ko', 'name': '한국어/조선말'}]   \n",
       "5       8/6/87    83.0           [{'iso_639_1': 'en', 'name': 'English'}]   \n",
       "6      8/30/12    92.0           [{'iso_639_1': 'en', 'name': 'English'}]   \n",
       "7      1/15/04    84.0  [{'iso_639_1': 'ar', 'name': 'العربية'}, {'iso...   \n",
       "8      2/16/96   100.0           [{'iso_639_1': 'en', 'name': 'English'}]   \n",
       "9      4/16/03    91.0           [{'iso_639_1': 'en', 'name': 'English'}]   \n",
       "\n",
       "     status                                            tagline  \\\n",
       "0  Released  The Laws of Space and Time are About to be Vio...   \n",
       "1  Released  It can take a lifetime to find true love; she'...   \n",
       "2  Released    The road to greatness can take you to the edge.   \n",
       "3  Released                                                NaN   \n",
       "4  Released                                                NaN   \n",
       "5  Released                                                NaN   \n",
       "6  Released               Fear The Demon That Doesn't Fear God   \n",
       "7  Released              Different channels. Different truths.   \n",
       "8  Released                        Set sail for Muppet mayhem!   \n",
       "9  Released           Back together for the first time, again.   \n",
       "\n",
       "                                      title  \\\n",
       "0                    Hot Tub Time Machine 2   \n",
       "1  The Princess Diaries 2: Royal Engagement   \n",
       "2                                  Whiplash   \n",
       "3                                   Kahaani   \n",
       "4                                Marine Boy   \n",
       "5    Pinocchio and the Emperor of the Night   \n",
       "6                            The Possession   \n",
       "7                              Control Room   \n",
       "8                    Muppet Treasure Island   \n",
       "9                             A Mighty Wind   \n",
       "\n",
       "                                            Keywords  \\\n",
       "0  [{'id': 4379, 'name': 'time travel'}, {'id': 9...   \n",
       "1  [{'id': 2505, 'name': 'coronation'}, {'id': 42...   \n",
       "2  [{'id': 1416, 'name': 'jazz'}, {'id': 1523, 'n...   \n",
       "3  [{'id': 10092, 'name': 'mystery'}, {'id': 1054...   \n",
       "4                                                NaN   \n",
       "5                                                NaN   \n",
       "6                                                NaN   \n",
       "7  [{'id': 917, 'name': 'journalism'}, {'id': 163...   \n",
       "8  [{'id': 2041, 'name': 'island'}, {'id': 4418, ...   \n",
       "9  [{'id': 11800, 'name': 'mockumentary'}, {'id':...   \n",
       "\n",
       "                                                cast  \\\n",
       "0  [{'cast_id': 4, 'character': 'Lou', 'credit_id...   \n",
       "1  [{'cast_id': 1, 'character': 'Mia Thermopolis'...   \n",
       "2  [{'cast_id': 5, 'character': 'Andrew Neimann',...   \n",
       "3  [{'cast_id': 1, 'character': 'Vidya Bagchi', '...   \n",
       "4  [{'cast_id': 3, 'character': 'Chun-soo', 'cred...   \n",
       "5  [{'cast_id': 6, 'character': 'Pinocchio (voice...   \n",
       "6  [{'cast_id': 23, 'character': 'Clyde', 'credit...   \n",
       "7  [{'cast_id': 2, 'character': 'Himself', 'credi...   \n",
       "8  [{'cast_id': 1, 'character': 'Long John Silver...   \n",
       "9  [{'cast_id': 24, 'character': 'Jonathan Steinb...   \n",
       "\n",
       "                                                crew   revenue  \n",
       "0  [{'credit_id': '59ac067c92514107af02c8c8', 'de...  12314651  \n",
       "1  [{'credit_id': '52fe43fe9251416c7502563d', 'de...  95149435  \n",
       "2  [{'credit_id': '54d5356ec3a3683ba0000039', 'de...  13092000  \n",
       "3  [{'credit_id': '52fe48779251416c9108d6eb', 'de...  16000000  \n",
       "4  [{'credit_id': '52fe464b9251416c75073b43', 'de...   3923970  \n",
       "5  [{'credit_id': '52fe46f49251416c9106558b', 'de...   3261638  \n",
       "6  [{'credit_id': '52fe4981c3a368484e12ee29', 'de...  85446075  \n",
       "7  [{'credit_id': '52fe47a69251416c750a0daf', 'de...   2586511  \n",
       "8  [{'credit_id': '52fe43c89251416c7501deb3', 'de...  34327391  \n",
       "9  [{'credit_id': '52fe45609251416c750545b3', 'de...  18750246  \n",
       "\n",
       "[10 rows x 23 columns]"
      ]
     },
     "execution_count": 31,
     "metadata": {},
     "output_type": "execute_result"
    }
   ],
   "source": [
    "# Let's have a look at sample data\n",
    "\n",
    "train.head(n=10)"
   ]
  },
  {
   "attachments": {},
   "cell_type": "markdown",
   "metadata": {},
   "source": [
    "Let's have some statastics of data."
   ]
  },
  {
   "cell_type": "code",
   "execution_count": 32,
   "metadata": {},
   "outputs": [
    {
     "name": "stdout",
     "output_type": "stream",
     "text": [
      "Shape of data is\n"
     ]
    },
    {
     "data": {
      "text/plain": [
       "(3000, 23)"
      ]
     },
     "execution_count": 32,
     "metadata": {},
     "output_type": "execute_result"
    },
    {
     "name": "stdout",
     "output_type": "stream",
     "text": [
      "The total number of movies are 3000\n"
     ]
    }
   ],
   "source": [
    "print('Shape of data is')\n",
    "train.shape\n",
    "print('The total number of movies are',train.shape[0])"
   ]
  },
  {
   "attachments": {},
   "cell_type": "markdown",
   "metadata": {},
   "source": [
    "Let's check information of dataset."
   ]
  },
  {
   "cell_type": "code",
   "execution_count": 33,
   "metadata": {},
   "outputs": [
    {
     "name": "stdout",
     "output_type": "stream",
     "text": [
      "<class 'pandas.core.frame.DataFrame'>\n",
      "RangeIndex: 3000 entries, 0 to 2999\n",
      "Data columns (total 23 columns):\n",
      " #   Column                 Non-Null Count  Dtype  \n",
      "---  ------                 --------------  -----  \n",
      " 0   id                     3000 non-null   int64  \n",
      " 1   belongs_to_collection  604 non-null    object \n",
      " 2   budget                 3000 non-null   int64  \n",
      " 3   genres                 2993 non-null   object \n",
      " 4   homepage               946 non-null    object \n",
      " 5   imdb_id                3000 non-null   object \n",
      " 6   original_language      3000 non-null   object \n",
      " 7   original_title         3000 non-null   object \n",
      " 8   overview               2992 non-null   object \n",
      " 9   popularity             3000 non-null   float64\n",
      " 10  poster_path            2999 non-null   object \n",
      " 11  production_companies   2844 non-null   object \n",
      " 12  production_countries   2945 non-null   object \n",
      " 13  release_date           3000 non-null   object \n",
      " 14  runtime                2998 non-null   float64\n",
      " 15  spoken_languages       2980 non-null   object \n",
      " 16  status                 3000 non-null   object \n",
      " 17  tagline                2403 non-null   object \n",
      " 18  title                  3000 non-null   object \n",
      " 19  Keywords               2724 non-null   object \n",
      " 20  cast                   2987 non-null   object \n",
      " 21  crew                   2984 non-null   object \n",
      " 22  revenue                3000 non-null   int64  \n",
      "dtypes: float64(2), int64(3), object(18)\n",
      "memory usage: 539.2+ KB\n"
     ]
    }
   ],
   "source": [
    "train.info()"
   ]
  },
  {
   "attachments": {},
   "cell_type": "markdown",
   "metadata": {},
   "source": [
    "Observations about the data:\n",
    "\n",
    "About Dataset:\n",
    "id: Integer unique id of each movie\n",
    "belongs_to_collection: Contains the TMDB Id, Name, Movie Poster and Backdrop URL of a movie in JSON format.\n",
    "budget: Budget of a movie in dollars. Some row contains 0 values which mean unknown.\n",
    "genres: Contains all the Genres Name & TMDB Id in JSON Format.\n",
    "homepage: Contains the official URL of a movie.\n",
    "imdb_id: IMDB id of a movie (string).\n",
    "original_language: Two digit code of the original language, in which the movie was made.\n",
    "original_title: The original title of a movie in original_language.\n",
    "overview: Brief description of the movie.\n",
    "popularity: Popularity of the movie.\n",
    "poster_path: Poster path of a movie. You can see full poster image by adding url after this link --> https://image.tmdb.org/t/p/original/\n",
    "production_companies: All production company name and TMDB id in JSON format of a movie.\n",
    "production_countries: Two digit code and full name of the production company in JSON format.\n",
    "release_date: Release date of a movie in mm/dd/yy format.\n",
    "runtime: Total runtime of a movie in minutes (Integer).\n",
    "spoken_languages: Two digit code and full name of the spoken language.\n",
    "status: Is the movie released or rumored?\n",
    "tagline: Tagline of a movie\n",
    "title: English title of a movie\n",
    "Keywords: TMDB Id and name of all the keywords in JSON format.\n",
    "cast: All cast TMDB id, name, character name, gender (1 = Female, 2 = Male) in JSON format\n",
    "crew: Name, TMDB id, profile path of various kind of crew members job like Director, Writer, Art, Sound etc.\n",
    "revenue: Total revenue earned by a movie in dollars."
   ]
  },
  {
   "cell_type": "code",
   "execution_count": 34,
   "metadata": {},
   "outputs": [
    {
     "data": {
      "text/html": [
       "<div>\n",
       "<style scoped>\n",
       "    .dataframe tbody tr th:only-of-type {\n",
       "        vertical-align: middle;\n",
       "    }\n",
       "\n",
       "    .dataframe tbody tr th {\n",
       "        vertical-align: top;\n",
       "    }\n",
       "\n",
       "    .dataframe thead th {\n",
       "        text-align: right;\n",
       "    }\n",
       "</style>\n",
       "<table border=\"1\" class=\"dataframe\">\n",
       "  <thead>\n",
       "    <tr style=\"text-align: right;\">\n",
       "      <th></th>\n",
       "      <th>id</th>\n",
       "      <th>belongs_to_collection</th>\n",
       "      <th>budget</th>\n",
       "      <th>genres</th>\n",
       "      <th>homepage</th>\n",
       "      <th>imdb_id</th>\n",
       "      <th>original_language</th>\n",
       "      <th>original_title</th>\n",
       "      <th>overview</th>\n",
       "      <th>popularity</th>\n",
       "      <th>...</th>\n",
       "      <th>release_date</th>\n",
       "      <th>runtime</th>\n",
       "      <th>spoken_languages</th>\n",
       "      <th>status</th>\n",
       "      <th>tagline</th>\n",
       "      <th>title</th>\n",
       "      <th>Keywords</th>\n",
       "      <th>cast</th>\n",
       "      <th>crew</th>\n",
       "      <th>revenue</th>\n",
       "    </tr>\n",
       "  </thead>\n",
       "  <tbody>\n",
       "    <tr>\n",
       "      <th>count</th>\n",
       "      <td>3000.000000</td>\n",
       "      <td>604</td>\n",
       "      <td>3.000000e+03</td>\n",
       "      <td>2993</td>\n",
       "      <td>946</td>\n",
       "      <td>3000</td>\n",
       "      <td>3000</td>\n",
       "      <td>3000</td>\n",
       "      <td>2992</td>\n",
       "      <td>3000.000000</td>\n",
       "      <td>...</td>\n",
       "      <td>3000</td>\n",
       "      <td>2998.000000</td>\n",
       "      <td>2980</td>\n",
       "      <td>3000</td>\n",
       "      <td>2403</td>\n",
       "      <td>3000</td>\n",
       "      <td>2724</td>\n",
       "      <td>2987</td>\n",
       "      <td>2984</td>\n",
       "      <td>3.000000e+03</td>\n",
       "    </tr>\n",
       "    <tr>\n",
       "      <th>unique</th>\n",
       "      <td>NaN</td>\n",
       "      <td>422</td>\n",
       "      <td>NaN</td>\n",
       "      <td>872</td>\n",
       "      <td>941</td>\n",
       "      <td>3000</td>\n",
       "      <td>36</td>\n",
       "      <td>2975</td>\n",
       "      <td>2992</td>\n",
       "      <td>NaN</td>\n",
       "      <td>...</td>\n",
       "      <td>2398</td>\n",
       "      <td>NaN</td>\n",
       "      <td>401</td>\n",
       "      <td>2</td>\n",
       "      <td>2400</td>\n",
       "      <td>2969</td>\n",
       "      <td>2648</td>\n",
       "      <td>2975</td>\n",
       "      <td>2984</td>\n",
       "      <td>NaN</td>\n",
       "    </tr>\n",
       "    <tr>\n",
       "      <th>top</th>\n",
       "      <td>NaN</td>\n",
       "      <td>[{'id': 645, 'name': 'James Bond Collection', ...</td>\n",
       "      <td>NaN</td>\n",
       "      <td>[{'id': 18, 'name': 'Drama'}]</td>\n",
       "      <td>http://www.transformersmovie.com/</td>\n",
       "      <td>tt2637294</td>\n",
       "      <td>en</td>\n",
       "      <td>Joshua</td>\n",
       "      <td>When Lou, who has become the \"father of the In...</td>\n",
       "      <td>NaN</td>\n",
       "      <td>...</td>\n",
       "      <td>9/10/10</td>\n",
       "      <td>NaN</td>\n",
       "      <td>[{'iso_639_1': 'en', 'name': 'English'}]</td>\n",
       "      <td>Released</td>\n",
       "      <td>Based on a true story.</td>\n",
       "      <td>The Magnificent Seven</td>\n",
       "      <td>[{'id': 10183, 'name': 'independent film'}]</td>\n",
       "      <td>[]</td>\n",
       "      <td>[{'credit_id': '59ac067c92514107af02c8c8', 'de...</td>\n",
       "      <td>NaN</td>\n",
       "    </tr>\n",
       "    <tr>\n",
       "      <th>freq</th>\n",
       "      <td>NaN</td>\n",
       "      <td>16</td>\n",
       "      <td>NaN</td>\n",
       "      <td>266</td>\n",
       "      <td>4</td>\n",
       "      <td>1</td>\n",
       "      <td>2575</td>\n",
       "      <td>2</td>\n",
       "      <td>1</td>\n",
       "      <td>NaN</td>\n",
       "      <td>...</td>\n",
       "      <td>5</td>\n",
       "      <td>NaN</td>\n",
       "      <td>1817</td>\n",
       "      <td>2996</td>\n",
       "      <td>3</td>\n",
       "      <td>2</td>\n",
       "      <td>27</td>\n",
       "      <td>13</td>\n",
       "      <td>1</td>\n",
       "      <td>NaN</td>\n",
       "    </tr>\n",
       "    <tr>\n",
       "      <th>mean</th>\n",
       "      <td>1500.500000</td>\n",
       "      <td>NaN</td>\n",
       "      <td>2.253133e+07</td>\n",
       "      <td>NaN</td>\n",
       "      <td>NaN</td>\n",
       "      <td>NaN</td>\n",
       "      <td>NaN</td>\n",
       "      <td>NaN</td>\n",
       "      <td>NaN</td>\n",
       "      <td>8.463274</td>\n",
       "      <td>...</td>\n",
       "      <td>NaN</td>\n",
       "      <td>107.856571</td>\n",
       "      <td>NaN</td>\n",
       "      <td>NaN</td>\n",
       "      <td>NaN</td>\n",
       "      <td>NaN</td>\n",
       "      <td>NaN</td>\n",
       "      <td>NaN</td>\n",
       "      <td>NaN</td>\n",
       "      <td>6.672585e+07</td>\n",
       "    </tr>\n",
       "    <tr>\n",
       "      <th>std</th>\n",
       "      <td>866.169729</td>\n",
       "      <td>NaN</td>\n",
       "      <td>3.702609e+07</td>\n",
       "      <td>NaN</td>\n",
       "      <td>NaN</td>\n",
       "      <td>NaN</td>\n",
       "      <td>NaN</td>\n",
       "      <td>NaN</td>\n",
       "      <td>NaN</td>\n",
       "      <td>12.104000</td>\n",
       "      <td>...</td>\n",
       "      <td>NaN</td>\n",
       "      <td>22.086434</td>\n",
       "      <td>NaN</td>\n",
       "      <td>NaN</td>\n",
       "      <td>NaN</td>\n",
       "      <td>NaN</td>\n",
       "      <td>NaN</td>\n",
       "      <td>NaN</td>\n",
       "      <td>NaN</td>\n",
       "      <td>1.375323e+08</td>\n",
       "    </tr>\n",
       "    <tr>\n",
       "      <th>min</th>\n",
       "      <td>1.000000</td>\n",
       "      <td>NaN</td>\n",
       "      <td>0.000000e+00</td>\n",
       "      <td>NaN</td>\n",
       "      <td>NaN</td>\n",
       "      <td>NaN</td>\n",
       "      <td>NaN</td>\n",
       "      <td>NaN</td>\n",
       "      <td>NaN</td>\n",
       "      <td>0.000001</td>\n",
       "      <td>...</td>\n",
       "      <td>NaN</td>\n",
       "      <td>0.000000</td>\n",
       "      <td>NaN</td>\n",
       "      <td>NaN</td>\n",
       "      <td>NaN</td>\n",
       "      <td>NaN</td>\n",
       "      <td>NaN</td>\n",
       "      <td>NaN</td>\n",
       "      <td>NaN</td>\n",
       "      <td>1.000000e+00</td>\n",
       "    </tr>\n",
       "    <tr>\n",
       "      <th>25%</th>\n",
       "      <td>750.750000</td>\n",
       "      <td>NaN</td>\n",
       "      <td>0.000000e+00</td>\n",
       "      <td>NaN</td>\n",
       "      <td>NaN</td>\n",
       "      <td>NaN</td>\n",
       "      <td>NaN</td>\n",
       "      <td>NaN</td>\n",
       "      <td>NaN</td>\n",
       "      <td>4.018053</td>\n",
       "      <td>...</td>\n",
       "      <td>NaN</td>\n",
       "      <td>94.000000</td>\n",
       "      <td>NaN</td>\n",
       "      <td>NaN</td>\n",
       "      <td>NaN</td>\n",
       "      <td>NaN</td>\n",
       "      <td>NaN</td>\n",
       "      <td>NaN</td>\n",
       "      <td>NaN</td>\n",
       "      <td>2.379808e+06</td>\n",
       "    </tr>\n",
       "    <tr>\n",
       "      <th>50%</th>\n",
       "      <td>1500.500000</td>\n",
       "      <td>NaN</td>\n",
       "      <td>8.000000e+06</td>\n",
       "      <td>NaN</td>\n",
       "      <td>NaN</td>\n",
       "      <td>NaN</td>\n",
       "      <td>NaN</td>\n",
       "      <td>NaN</td>\n",
       "      <td>NaN</td>\n",
       "      <td>7.374861</td>\n",
       "      <td>...</td>\n",
       "      <td>NaN</td>\n",
       "      <td>104.000000</td>\n",
       "      <td>NaN</td>\n",
       "      <td>NaN</td>\n",
       "      <td>NaN</td>\n",
       "      <td>NaN</td>\n",
       "      <td>NaN</td>\n",
       "      <td>NaN</td>\n",
       "      <td>NaN</td>\n",
       "      <td>1.680707e+07</td>\n",
       "    </tr>\n",
       "    <tr>\n",
       "      <th>75%</th>\n",
       "      <td>2250.250000</td>\n",
       "      <td>NaN</td>\n",
       "      <td>2.900000e+07</td>\n",
       "      <td>NaN</td>\n",
       "      <td>NaN</td>\n",
       "      <td>NaN</td>\n",
       "      <td>NaN</td>\n",
       "      <td>NaN</td>\n",
       "      <td>NaN</td>\n",
       "      <td>10.890983</td>\n",
       "      <td>...</td>\n",
       "      <td>NaN</td>\n",
       "      <td>118.000000</td>\n",
       "      <td>NaN</td>\n",
       "      <td>NaN</td>\n",
       "      <td>NaN</td>\n",
       "      <td>NaN</td>\n",
       "      <td>NaN</td>\n",
       "      <td>NaN</td>\n",
       "      <td>NaN</td>\n",
       "      <td>6.891920e+07</td>\n",
       "    </tr>\n",
       "    <tr>\n",
       "      <th>max</th>\n",
       "      <td>3000.000000</td>\n",
       "      <td>NaN</td>\n",
       "      <td>3.800000e+08</td>\n",
       "      <td>NaN</td>\n",
       "      <td>NaN</td>\n",
       "      <td>NaN</td>\n",
       "      <td>NaN</td>\n",
       "      <td>NaN</td>\n",
       "      <td>NaN</td>\n",
       "      <td>294.337037</td>\n",
       "      <td>...</td>\n",
       "      <td>NaN</td>\n",
       "      <td>338.000000</td>\n",
       "      <td>NaN</td>\n",
       "      <td>NaN</td>\n",
       "      <td>NaN</td>\n",
       "      <td>NaN</td>\n",
       "      <td>NaN</td>\n",
       "      <td>NaN</td>\n",
       "      <td>NaN</td>\n",
       "      <td>1.519558e+09</td>\n",
       "    </tr>\n",
       "  </tbody>\n",
       "</table>\n",
       "<p>11 rows × 23 columns</p>\n",
       "</div>"
      ],
      "text/plain": [
       "                 id                              belongs_to_collection  \\\n",
       "count   3000.000000                                                604   \n",
       "unique          NaN                                                422   \n",
       "top             NaN  [{'id': 645, 'name': 'James Bond Collection', ...   \n",
       "freq            NaN                                                 16   \n",
       "mean    1500.500000                                                NaN   \n",
       "std      866.169729                                                NaN   \n",
       "min        1.000000                                                NaN   \n",
       "25%      750.750000                                                NaN   \n",
       "50%     1500.500000                                                NaN   \n",
       "75%     2250.250000                                                NaN   \n",
       "max     3000.000000                                                NaN   \n",
       "\n",
       "              budget                         genres  \\\n",
       "count   3.000000e+03                           2993   \n",
       "unique           NaN                            872   \n",
       "top              NaN  [{'id': 18, 'name': 'Drama'}]   \n",
       "freq             NaN                            266   \n",
       "mean    2.253133e+07                            NaN   \n",
       "std     3.702609e+07                            NaN   \n",
       "min     0.000000e+00                            NaN   \n",
       "25%     0.000000e+00                            NaN   \n",
       "50%     8.000000e+06                            NaN   \n",
       "75%     2.900000e+07                            NaN   \n",
       "max     3.800000e+08                            NaN   \n",
       "\n",
       "                                 homepage    imdb_id original_language  \\\n",
       "count                                 946       3000              3000   \n",
       "unique                                941       3000                36   \n",
       "top     http://www.transformersmovie.com/  tt2637294                en   \n",
       "freq                                    4          1              2575   \n",
       "mean                                  NaN        NaN               NaN   \n",
       "std                                   NaN        NaN               NaN   \n",
       "min                                   NaN        NaN               NaN   \n",
       "25%                                   NaN        NaN               NaN   \n",
       "50%                                   NaN        NaN               NaN   \n",
       "75%                                   NaN        NaN               NaN   \n",
       "max                                   NaN        NaN               NaN   \n",
       "\n",
       "       original_title                                           overview  \\\n",
       "count            3000                                               2992   \n",
       "unique           2975                                               2992   \n",
       "top            Joshua  When Lou, who has become the \"father of the In...   \n",
       "freq                2                                                  1   \n",
       "mean              NaN                                                NaN   \n",
       "std               NaN                                                NaN   \n",
       "min               NaN                                                NaN   \n",
       "25%               NaN                                                NaN   \n",
       "50%               NaN                                                NaN   \n",
       "75%               NaN                                                NaN   \n",
       "max               NaN                                                NaN   \n",
       "\n",
       "         popularity  ... release_date      runtime  \\\n",
       "count   3000.000000  ...         3000  2998.000000   \n",
       "unique          NaN  ...         2398          NaN   \n",
       "top             NaN  ...      9/10/10          NaN   \n",
       "freq            NaN  ...            5          NaN   \n",
       "mean       8.463274  ...          NaN   107.856571   \n",
       "std       12.104000  ...          NaN    22.086434   \n",
       "min        0.000001  ...          NaN     0.000000   \n",
       "25%        4.018053  ...          NaN    94.000000   \n",
       "50%        7.374861  ...          NaN   104.000000   \n",
       "75%       10.890983  ...          NaN   118.000000   \n",
       "max      294.337037  ...          NaN   338.000000   \n",
       "\n",
       "                                spoken_languages    status  \\\n",
       "count                                       2980      3000   \n",
       "unique                                       401         2   \n",
       "top     [{'iso_639_1': 'en', 'name': 'English'}]  Released   \n",
       "freq                                        1817      2996   \n",
       "mean                                         NaN       NaN   \n",
       "std                                          NaN       NaN   \n",
       "min                                          NaN       NaN   \n",
       "25%                                          NaN       NaN   \n",
       "50%                                          NaN       NaN   \n",
       "75%                                          NaN       NaN   \n",
       "max                                          NaN       NaN   \n",
       "\n",
       "                       tagline                  title  \\\n",
       "count                     2403                   3000   \n",
       "unique                    2400                   2969   \n",
       "top     Based on a true story.  The Magnificent Seven   \n",
       "freq                         3                      2   \n",
       "mean                       NaN                    NaN   \n",
       "std                        NaN                    NaN   \n",
       "min                        NaN                    NaN   \n",
       "25%                        NaN                    NaN   \n",
       "50%                        NaN                    NaN   \n",
       "75%                        NaN                    NaN   \n",
       "max                        NaN                    NaN   \n",
       "\n",
       "                                           Keywords  cast  \\\n",
       "count                                          2724  2987   \n",
       "unique                                         2648  2975   \n",
       "top     [{'id': 10183, 'name': 'independent film'}]    []   \n",
       "freq                                             27    13   \n",
       "mean                                            NaN   NaN   \n",
       "std                                             NaN   NaN   \n",
       "min                                             NaN   NaN   \n",
       "25%                                             NaN   NaN   \n",
       "50%                                             NaN   NaN   \n",
       "75%                                             NaN   NaN   \n",
       "max                                             NaN   NaN   \n",
       "\n",
       "                                                     crew       revenue  \n",
       "count                                                2984  3.000000e+03  \n",
       "unique                                               2984           NaN  \n",
       "top     [{'credit_id': '59ac067c92514107af02c8c8', 'de...           NaN  \n",
       "freq                                                    1           NaN  \n",
       "mean                                                  NaN  6.672585e+07  \n",
       "std                                                   NaN  1.375323e+08  \n",
       "min                                                   NaN  1.000000e+00  \n",
       "25%                                                   NaN  2.379808e+06  \n",
       "50%                                                   NaN  1.680707e+07  \n",
       "75%                                                   NaN  6.891920e+07  \n",
       "max                                                   NaN  1.519558e+09  \n",
       "\n",
       "[11 rows x 23 columns]"
      ]
     },
     "execution_count": 34,
     "metadata": {},
     "output_type": "execute_result"
    }
   ],
   "source": [
    "train.describe(include='all')"
   ]
  },
  {
   "attachments": {},
   "cell_type": "markdown",
   "metadata": {},
   "source": [
    "Let's check missing value in train data."
   ]
  },
  {
   "cell_type": "code",
   "execution_count": 35,
   "metadata": {},
   "outputs": [
    {
     "data": {
      "text/plain": [
       "id                          0\n",
       "belongs_to_collection    2396\n",
       "budget                      0\n",
       "genres                      7\n",
       "homepage                 2054\n",
       "imdb_id                     0\n",
       "original_language           0\n",
       "original_title              0\n",
       "overview                    8\n",
       "popularity                  0\n",
       "poster_path                 1\n",
       "production_companies      156\n",
       "production_countries       55\n",
       "release_date                0\n",
       "runtime                     2\n",
       "spoken_languages           20\n",
       "status                      0\n",
       "tagline                   597\n",
       "title                       0\n",
       "Keywords                  276\n",
       "cast                       13\n",
       "crew                       16\n",
       "revenue                     0\n",
       "dtype: int64"
      ]
     },
     "execution_count": 35,
     "metadata": {},
     "output_type": "execute_result"
    }
   ],
   "source": [
    "# Checking NULL value\n",
    "\n",
    "train.isnull().sum()"
   ]
  },
  {
   "attachments": {},
   "cell_type": "markdown",
   "metadata": {},
   "source": [
    "As we can see that some features have dictiories. I'm dropping all such columns for now."
   ]
  },
  {
   "cell_type": "code",
   "execution_count": 36,
   "metadata": {},
   "outputs": [],
   "source": [
    "train = train.drop(['belongs_to_collection','genres','crew','cast','Keywords','spoken_languages','production_companies','production_countries','tagline','overview','homepage'],axis=1)"
   ]
  },
  {
   "attachments": {},
   "cell_type": "markdown",
   "metadata": {},
   "source": [
    "Create new Column for release day, date, month and year."
   ]
  },
  {
   "cell_type": "code",
   "execution_count": 37,
   "metadata": {},
   "outputs": [
    {
     "name": "stderr",
     "output_type": "stream",
     "text": [
      "C:\\Users\\gohpaulc\\AppData\\Local\\Temp\\ipykernel_20244\\3429791588.py:1: UserWarning: The argument 'infer_datetime_format' is deprecated and will be removed in a future version. A strict version of it is now the default, see https://pandas.pydata.org/pdeps/0004-consistent-to-datetime-parsing.html. You can safely remove this argument.\n",
      "  train['release_date'] = pd.to_datetime(train['release_date'],infer_datetime_format=True)\n",
      "C:\\Users\\gohpaulc\\AppData\\Local\\Temp\\ipykernel_20244\\3429791588.py:1: UserWarning: Could not infer format, so each element will be parsed individually, falling back to `dateutil`. To ensure parsing is consistent and as-expected, please specify a format.\n",
      "  train['release_date'] = pd.to_datetime(train['release_date'],infer_datetime_format=True)\n"
     ]
    },
    {
     "name": "stdout",
     "output_type": "stream",
     "text": [
      "0       2015\n",
      "1       2004\n",
      "2       2014\n",
      "3       2012\n",
      "4       2009\n",
      "        ... \n",
      "2995    1994\n",
      "2996    2013\n",
      "2997    1996\n",
      "2998    2004\n",
      "2999    2011\n",
      "Name: release_year, Length: 3000, dtype: int64\n"
     ]
    }
   ],
   "source": [
    "train['release_date'] = pd.to_datetime(train['release_date'],infer_datetime_format=True)\n",
    "train['release_day'] = train['release_date'].apply(lambda t:t.day)\n",
    "train['release_weekday'] = train['release_date'].apply(lambda t:t.weekday())\n",
    "train['release_month'] = train['release_date'].apply(lambda t: t.month)\n",
    "# Year was being interpreted as future dates in some cases soI had to adjust some values\n",
    "\n",
    "train['release_date'] = pd.to_datetime(train['release_date'])\n",
    "\n",
    "# Extract the year from 'release_date' using lambda function\n",
    "train['release_year'] = train['release_date'].apply(lambda t: t.year if t.year < 2018 else t.year - 100)\n",
    "print(train['release_year'])"
   ]
  },
  {
   "attachments": {},
   "cell_type": "markdown",
   "metadata": {},
   "source": [
    "Data Analysis and Visualization"
   ]
  },
  {
   "attachments": {},
   "cell_type": "markdown",
   "metadata": {},
   "source": [
    "1. Which movie made the highest revenue?"
   ]
  },
  {
   "cell_type": "code",
   "execution_count": 38,
   "metadata": {},
   "outputs": [
    {
     "data": {
      "text/html": [
       "<div>\n",
       "<style scoped>\n",
       "    .dataframe tbody tr th:only-of-type {\n",
       "        vertical-align: middle;\n",
       "    }\n",
       "\n",
       "    .dataframe tbody tr th {\n",
       "        vertical-align: top;\n",
       "    }\n",
       "\n",
       "    .dataframe thead th {\n",
       "        text-align: right;\n",
       "    }\n",
       "</style>\n",
       "<table border=\"1\" class=\"dataframe\">\n",
       "  <thead>\n",
       "    <tr style=\"text-align: right;\">\n",
       "      <th></th>\n",
       "      <th>id</th>\n",
       "      <th>budget</th>\n",
       "      <th>imdb_id</th>\n",
       "      <th>original_language</th>\n",
       "      <th>original_title</th>\n",
       "      <th>popularity</th>\n",
       "      <th>poster_path</th>\n",
       "      <th>release_date</th>\n",
       "      <th>runtime</th>\n",
       "      <th>status</th>\n",
       "      <th>title</th>\n",
       "      <th>revenue</th>\n",
       "      <th>release_day</th>\n",
       "      <th>release_weekday</th>\n",
       "      <th>release_month</th>\n",
       "      <th>release_year</th>\n",
       "    </tr>\n",
       "  </thead>\n",
       "  <tbody>\n",
       "    <tr>\n",
       "      <th>1126</th>\n",
       "      <td>1127</td>\n",
       "      <td>220000000</td>\n",
       "      <td>tt0848228</td>\n",
       "      <td>en</td>\n",
       "      <td>The Avengers</td>\n",
       "      <td>89.887648</td>\n",
       "      <td>/cezWGskPY5x7GaglTTRN4Fugfb8.jpg</td>\n",
       "      <td>2012-04-25</td>\n",
       "      <td>143.0</td>\n",
       "      <td>Released</td>\n",
       "      <td>The Avengers</td>\n",
       "      <td>1519557910</td>\n",
       "      <td>25</td>\n",
       "      <td>2</td>\n",
       "      <td>4</td>\n",
       "      <td>2012</td>\n",
       "    </tr>\n",
       "  </tbody>\n",
       "</table>\n",
       "</div>"
      ],
      "text/plain": [
       "        id     budget    imdb_id original_language original_title  popularity  \\\n",
       "1126  1127  220000000  tt0848228                en   The Avengers   89.887648   \n",
       "\n",
       "                           poster_path release_date  runtime    status  \\\n",
       "1126  /cezWGskPY5x7GaglTTRN4Fugfb8.jpg   2012-04-25    143.0  Released   \n",
       "\n",
       "             title     revenue  release_day  release_weekday  release_month  \\\n",
       "1126  The Avengers  1519557910           25                2              4   \n",
       "\n",
       "      release_year  \n",
       "1126          2012  "
      ]
     },
     "execution_count": 38,
     "metadata": {},
     "output_type": "execute_result"
    }
   ],
   "source": [
    "train[train['revenue']==train['revenue'].max()]"
   ]
  },
  {
   "cell_type": "code",
   "execution_count": 39,
   "metadata": {},
   "outputs": [
    {
     "data": {
      "text/html": [
       "<style type=\"text/css\">\n",
       "#T_c4b32_row0_col3 {\n",
       "  background-color: #00441b;\n",
       "  color: #f1f1f1;\n",
       "}\n",
       "#T_c4b32_row1_col3 {\n",
       "  background-color: #004c1e;\n",
       "  color: #f1f1f1;\n",
       "}\n",
       "#T_c4b32_row2_col3 {\n",
       "  background-color: #1d8640;\n",
       "  color: #f1f1f1;\n",
       "}\n",
       "#T_c4b32_row3_col3 {\n",
       "  background-color: #6dc5a9;\n",
       "  color: #000000;\n",
       "}\n",
       "#T_c4b32_row4_col3 {\n",
       "  background-color: #d6f0ee;\n",
       "  color: #000000;\n",
       "}\n",
       "#T_c4b32_row5_col3 {\n",
       "  background-color: #e5f5f9;\n",
       "  color: #000000;\n",
       "}\n",
       "#T_c4b32_row6_col3 {\n",
       "  background-color: #f1fafc;\n",
       "  color: #000000;\n",
       "}\n",
       "#T_c4b32_row7_col3 {\n",
       "  background-color: #f6fcfd;\n",
       "  color: #000000;\n",
       "}\n",
       "#T_c4b32_row8_col3, #T_c4b32_row9_col3 {\n",
       "  background-color: #f7fcfd;\n",
       "  color: #000000;\n",
       "}\n",
       "</style>\n",
       "<table id=\"T_c4b32\">\n",
       "  <thead>\n",
       "    <tr>\n",
       "      <th class=\"blank level0\" >&nbsp;</th>\n",
       "      <th id=\"T_c4b32_level0_col0\" class=\"col_heading level0 col0\" >id</th>\n",
       "      <th id=\"T_c4b32_level0_col1\" class=\"col_heading level0 col1\" >title</th>\n",
       "      <th id=\"T_c4b32_level0_col2\" class=\"col_heading level0 col2\" >budget</th>\n",
       "      <th id=\"T_c4b32_level0_col3\" class=\"col_heading level0 col3\" >revenue</th>\n",
       "    </tr>\n",
       "  </thead>\n",
       "  <tbody>\n",
       "    <tr>\n",
       "      <th id=\"T_c4b32_level0_row0\" class=\"row_heading level0 row0\" >1126</th>\n",
       "      <td id=\"T_c4b32_row0_col0\" class=\"data row0 col0\" >1127</td>\n",
       "      <td id=\"T_c4b32_row0_col1\" class=\"data row0 col1\" >The Avengers</td>\n",
       "      <td id=\"T_c4b32_row0_col2\" class=\"data row0 col2\" >220000000</td>\n",
       "      <td id=\"T_c4b32_row0_col3\" class=\"data row0 col3\" >1519557910</td>\n",
       "    </tr>\n",
       "    <tr>\n",
       "      <th id=\"T_c4b32_level0_row1\" class=\"row_heading level0 row1\" >1761</th>\n",
       "      <td id=\"T_c4b32_row1_col0\" class=\"data row1 col0\" >1762</td>\n",
       "      <td id=\"T_c4b32_row1_col1\" class=\"data row1 col1\" >Furious 7</td>\n",
       "      <td id=\"T_c4b32_row1_col2\" class=\"data row1 col2\" >190000000</td>\n",
       "      <td id=\"T_c4b32_row1_col3\" class=\"data row1 col3\" >1506249360</td>\n",
       "    </tr>\n",
       "    <tr>\n",
       "      <th id=\"T_c4b32_level0_row2\" class=\"row_heading level0 row2\" >2770</th>\n",
       "      <td id=\"T_c4b32_row2_col0\" class=\"data row2 col0\" >2771</td>\n",
       "      <td id=\"T_c4b32_row2_col1\" class=\"data row2 col1\" >Avengers: Age of Ultron</td>\n",
       "      <td id=\"T_c4b32_row2_col2\" class=\"data row2 col2\" >280000000</td>\n",
       "      <td id=\"T_c4b32_row2_col3\" class=\"data row2 col3\" >1405403694</td>\n",
       "    </tr>\n",
       "    <tr>\n",
       "      <th id=\"T_c4b32_level0_row3\" class=\"row_heading level0 row3\" >684</th>\n",
       "      <td id=\"T_c4b32_row3_col0\" class=\"data row3 col0\" >685</td>\n",
       "      <td id=\"T_c4b32_row3_col1\" class=\"data row3 col1\" >Beauty and the Beast</td>\n",
       "      <td id=\"T_c4b32_row3_col2\" class=\"data row3 col2\" >160000000</td>\n",
       "      <td id=\"T_c4b32_row3_col3\" class=\"data row3 col3\" >1262886337</td>\n",
       "    </tr>\n",
       "    <tr>\n",
       "      <th id=\"T_c4b32_level0_row4\" class=\"row_heading level0 row4\" >2322</th>\n",
       "      <td id=\"T_c4b32_row4_col0\" class=\"data row4 col0\" >2323</td>\n",
       "      <td id=\"T_c4b32_row4_col1\" class=\"data row4 col1\" >Transformers: Dark of the Moon</td>\n",
       "      <td id=\"T_c4b32_row4_col2\" class=\"data row4 col2\" >195000000</td>\n",
       "      <td id=\"T_c4b32_row4_col3\" class=\"data row4 col3\" >1123746996</td>\n",
       "    </tr>\n",
       "    <tr>\n",
       "      <th id=\"T_c4b32_level0_row5\" class=\"row_heading level0 row5\" >906</th>\n",
       "      <td id=\"T_c4b32_row5_col0\" class=\"data row5 col0\" >907</td>\n",
       "      <td id=\"T_c4b32_row5_col1\" class=\"data row5 col1\" >The Dark Knight Rises</td>\n",
       "      <td id=\"T_c4b32_row5_col2\" class=\"data row5 col2\" >250000000</td>\n",
       "      <td id=\"T_c4b32_row5_col3\" class=\"data row5 col3\" >1084939099</td>\n",
       "    </tr>\n",
       "    <tr>\n",
       "      <th id=\"T_c4b32_level0_row6\" class=\"row_heading level0 row6\" >2135</th>\n",
       "      <td id=\"T_c4b32_row6_col0\" class=\"data row6 col0\" >2136</td>\n",
       "      <td id=\"T_c4b32_row6_col1\" class=\"data row6 col1\" >Pirates of the Caribbean: On Stranger Tides</td>\n",
       "      <td id=\"T_c4b32_row6_col2\" class=\"data row6 col2\" >380000000</td>\n",
       "      <td id=\"T_c4b32_row6_col3\" class=\"data row6 col3\" >1045713802</td>\n",
       "    </tr>\n",
       "    <tr>\n",
       "      <th id=\"T_c4b32_level0_row7\" class=\"row_heading level0 row7\" >2562</th>\n",
       "      <td id=\"T_c4b32_row7_col0\" class=\"data row7 col0\" >2563</td>\n",
       "      <td id=\"T_c4b32_row7_col1\" class=\"data row7 col1\" >Finding Dory</td>\n",
       "      <td id=\"T_c4b32_row7_col2\" class=\"data row7 col2\" >200000000</td>\n",
       "      <td id=\"T_c4b32_row7_col3\" class=\"data row7 col3\" >1028570889</td>\n",
       "    </tr>\n",
       "    <tr>\n",
       "      <th id=\"T_c4b32_level0_row8\" class=\"row_heading level0 row8\" >881</th>\n",
       "      <td id=\"T_c4b32_row8_col0\" class=\"data row8 col0\" >882</td>\n",
       "      <td id=\"T_c4b32_row8_col1\" class=\"data row8 col1\" >Alice in Wonderland</td>\n",
       "      <td id=\"T_c4b32_row8_col2\" class=\"data row8 col2\" >200000000</td>\n",
       "      <td id=\"T_c4b32_row8_col3\" class=\"data row8 col3\" >1025491110</td>\n",
       "    </tr>\n",
       "    <tr>\n",
       "      <th id=\"T_c4b32_level0_row9\" class=\"row_heading level0 row9\" >734</th>\n",
       "      <td id=\"T_c4b32_row9_col0\" class=\"data row9 col0\" >735</td>\n",
       "      <td id=\"T_c4b32_row9_col1\" class=\"data row9 col1\" >Zootopia</td>\n",
       "      <td id=\"T_c4b32_row9_col2\" class=\"data row9 col2\" >150000000</td>\n",
       "      <td id=\"T_c4b32_row9_col3\" class=\"data row9 col3\" >1023784195</td>\n",
       "    </tr>\n",
       "  </tbody>\n",
       "</table>\n"
      ],
      "text/plain": [
       "<pandas.io.formats.style.Styler at 0x22e00060210>"
      ]
     },
     "execution_count": 39,
     "metadata": {},
     "output_type": "execute_result"
    }
   ],
   "source": [
    "train[['id','title','budget','revenue']].sort_values(['revenue'],ascending=False).head(10).style.background_gradient(subset='revenue',cmap='BuGn')"
   ]
  },
  {
   "attachments": {},
   "cell_type": "markdown",
   "metadata": {},
   "source": [
    "2. Which movie is the most expensive?"
   ]
  },
  {
   "cell_type": "code",
   "execution_count": 40,
   "metadata": {},
   "outputs": [
    {
     "data": {
      "text/html": [
       "<div>\n",
       "<style scoped>\n",
       "    .dataframe tbody tr th:only-of-type {\n",
       "        vertical-align: middle;\n",
       "    }\n",
       "\n",
       "    .dataframe tbody tr th {\n",
       "        vertical-align: top;\n",
       "    }\n",
       "\n",
       "    .dataframe thead th {\n",
       "        text-align: right;\n",
       "    }\n",
       "</style>\n",
       "<table border=\"1\" class=\"dataframe\">\n",
       "  <thead>\n",
       "    <tr style=\"text-align: right;\">\n",
       "      <th></th>\n",
       "      <th>id</th>\n",
       "      <th>budget</th>\n",
       "      <th>imdb_id</th>\n",
       "      <th>original_language</th>\n",
       "      <th>original_title</th>\n",
       "      <th>popularity</th>\n",
       "      <th>poster_path</th>\n",
       "      <th>release_date</th>\n",
       "      <th>runtime</th>\n",
       "      <th>status</th>\n",
       "      <th>title</th>\n",
       "      <th>revenue</th>\n",
       "      <th>release_day</th>\n",
       "      <th>release_weekday</th>\n",
       "      <th>release_month</th>\n",
       "      <th>release_year</th>\n",
       "    </tr>\n",
       "  </thead>\n",
       "  <tbody>\n",
       "    <tr>\n",
       "      <th>2135</th>\n",
       "      <td>2136</td>\n",
       "      <td>380000000</td>\n",
       "      <td>tt1298650</td>\n",
       "      <td>en</td>\n",
       "      <td>Pirates of the Caribbean: On Stranger Tides</td>\n",
       "      <td>27.88772</td>\n",
       "      <td>/wNUDAq5OUMOtxMlz64YaCp7gZma.jpg</td>\n",
       "      <td>2011-05-14</td>\n",
       "      <td>136.0</td>\n",
       "      <td>Released</td>\n",
       "      <td>Pirates of the Caribbean: On Stranger Tides</td>\n",
       "      <td>1045713802</td>\n",
       "      <td>14</td>\n",
       "      <td>5</td>\n",
       "      <td>5</td>\n",
       "      <td>2011</td>\n",
       "    </tr>\n",
       "  </tbody>\n",
       "</table>\n",
       "</div>"
      ],
      "text/plain": [
       "        id     budget    imdb_id original_language  \\\n",
       "2135  2136  380000000  tt1298650                en   \n",
       "\n",
       "                                   original_title  popularity  \\\n",
       "2135  Pirates of the Caribbean: On Stranger Tides    27.88772   \n",
       "\n",
       "                           poster_path release_date  runtime    status  \\\n",
       "2135  /wNUDAq5OUMOtxMlz64YaCp7gZma.jpg   2011-05-14    136.0  Released   \n",
       "\n",
       "                                            title     revenue  release_day  \\\n",
       "2135  Pirates of the Caribbean: On Stranger Tides  1045713802           14   \n",
       "\n",
       "      release_weekday  release_month  release_year  \n",
       "2135                5              5          2011  "
      ]
     },
     "execution_count": 40,
     "metadata": {},
     "output_type": "execute_result"
    }
   ],
   "source": [
    "train[train['budget']==train['budget'].max()]"
   ]
  },
  {
   "cell_type": "code",
   "execution_count": 41,
   "metadata": {},
   "outputs": [
    {
     "data": {
      "text/html": [
       "<style type=\"text/css\">\n",
       "#T_1f7fe_row0_col2, #T_1f7fe_row2_col3 {\n",
       "  background-color: #023858;\n",
       "  color: #f1f1f1;\n",
       "}\n",
       "#T_1f7fe_row0_col3 {\n",
       "  background-color: #2182b9;\n",
       "  color: #f1f1f1;\n",
       "}\n",
       "#T_1f7fe_row1_col2 {\n",
       "  background-color: #a2bcda;\n",
       "  color: #000000;\n",
       "}\n",
       "#T_1f7fe_row1_col3 {\n",
       "  background-color: #4094c3;\n",
       "  color: #f1f1f1;\n",
       "}\n",
       "#T_1f7fe_row2_col2 {\n",
       "  background-color: #d4d4e8;\n",
       "  color: #000000;\n",
       "}\n",
       "#T_1f7fe_row3_col2 {\n",
       "  background-color: #e6e2ef;\n",
       "  color: #000000;\n",
       "}\n",
       "#T_1f7fe_row3_col3 {\n",
       "  background-color: #f1ebf4;\n",
       "  color: #000000;\n",
       "}\n",
       "#T_1f7fe_row4_col2, #T_1f7fe_row5_col2 {\n",
       "  background-color: #f4edf6;\n",
       "  color: #000000;\n",
       "}\n",
       "#T_1f7fe_row4_col3, #T_1f7fe_row6_col2, #T_1f7fe_row7_col2, #T_1f7fe_row8_col2, #T_1f7fe_row9_col2 {\n",
       "  background-color: #fff7fb;\n",
       "  color: #000000;\n",
       "}\n",
       "#T_1f7fe_row5_col3 {\n",
       "  background-color: #c4cbe3;\n",
       "  color: #000000;\n",
       "}\n",
       "#T_1f7fe_row6_col3 {\n",
       "  background-color: #2987bc;\n",
       "  color: #f1f1f1;\n",
       "}\n",
       "#T_1f7fe_row7_col3 {\n",
       "  background-color: #4c99c5;\n",
       "  color: #f1f1f1;\n",
       "}\n",
       "#T_1f7fe_row8_col3 {\n",
       "  background-color: #1379b5;\n",
       "  color: #f1f1f1;\n",
       "}\n",
       "#T_1f7fe_row9_col3 {\n",
       "  background-color: #4295c3;\n",
       "  color: #f1f1f1;\n",
       "}\n",
       "</style>\n",
       "<table id=\"T_1f7fe\">\n",
       "  <thead>\n",
       "    <tr>\n",
       "      <th class=\"blank level0\" >&nbsp;</th>\n",
       "      <th id=\"T_1f7fe_level0_col0\" class=\"col_heading level0 col0\" >id</th>\n",
       "      <th id=\"T_1f7fe_level0_col1\" class=\"col_heading level0 col1\" >title</th>\n",
       "      <th id=\"T_1f7fe_level0_col2\" class=\"col_heading level0 col2\" >budget</th>\n",
       "      <th id=\"T_1f7fe_level0_col3\" class=\"col_heading level0 col3\" >revenue</th>\n",
       "    </tr>\n",
       "  </thead>\n",
       "  <tbody>\n",
       "    <tr>\n",
       "      <th id=\"T_1f7fe_level0_row0\" class=\"row_heading level0 row0\" >2135</th>\n",
       "      <td id=\"T_1f7fe_row0_col0\" class=\"data row0 col0\" >2136</td>\n",
       "      <td id=\"T_1f7fe_row0_col1\" class=\"data row0 col1\" >Pirates of the Caribbean: On Stranger Tides</td>\n",
       "      <td id=\"T_1f7fe_row0_col2\" class=\"data row0 col2\" >380000000</td>\n",
       "      <td id=\"T_1f7fe_row0_col3\" class=\"data row0 col3\" >1045713802</td>\n",
       "    </tr>\n",
       "    <tr>\n",
       "      <th id=\"T_1f7fe_level0_row1\" class=\"row_heading level0 row1\" >2209</th>\n",
       "      <td id=\"T_1f7fe_row1_col0\" class=\"data row1 col0\" >2210</td>\n",
       "      <td id=\"T_1f7fe_row1_col1\" class=\"data row1 col1\" >Pirates of the Caribbean: At World's End</td>\n",
       "      <td id=\"T_1f7fe_row1_col2\" class=\"data row1 col2\" >300000000</td>\n",
       "      <td id=\"T_1f7fe_row1_col3\" class=\"data row1 col3\" >961000000</td>\n",
       "    </tr>\n",
       "    <tr>\n",
       "      <th id=\"T_1f7fe_level0_row2\" class=\"row_heading level0 row2\" >2770</th>\n",
       "      <td id=\"T_1f7fe_row2_col0\" class=\"data row2 col0\" >2771</td>\n",
       "      <td id=\"T_1f7fe_row2_col1\" class=\"data row2 col1\" >Avengers: Age of Ultron</td>\n",
       "      <td id=\"T_1f7fe_row2_col2\" class=\"data row2 col2\" >280000000</td>\n",
       "      <td id=\"T_1f7fe_row2_col3\" class=\"data row2 col3\" >1405403694</td>\n",
       "    </tr>\n",
       "    <tr>\n",
       "      <th id=\"T_1f7fe_level0_row3\" class=\"row_heading level0 row3\" >1425</th>\n",
       "      <td id=\"T_1f7fe_row3_col0\" class=\"data row3 col0\" >1426</td>\n",
       "      <td id=\"T_1f7fe_row3_col1\" class=\"data row3 col1\" >Superman Returns</td>\n",
       "      <td id=\"T_1f7fe_row3_col2\" class=\"data row3 col2\" >270000000</td>\n",
       "      <td id=\"T_1f7fe_row3_col3\" class=\"data row3 col3\" >391081192</td>\n",
       "    </tr>\n",
       "    <tr>\n",
       "      <th id=\"T_1f7fe_level0_row4\" class=\"row_heading level0 row4\" >1270</th>\n",
       "      <td id=\"T_1f7fe_row4_col0\" class=\"data row4 col0\" >1271</td>\n",
       "      <td id=\"T_1f7fe_row4_col1\" class=\"data row4 col1\" >John Carter</td>\n",
       "      <td id=\"T_1f7fe_row4_col2\" class=\"data row4 col2\" >260000000</td>\n",
       "      <td id=\"T_1f7fe_row4_col3\" class=\"data row4 col3\" >284139100</td>\n",
       "    </tr>\n",
       "    <tr>\n",
       "      <th id=\"T_1f7fe_level0_row5\" class=\"row_heading level0 row5\" >1630</th>\n",
       "      <td id=\"T_1f7fe_row5_col0\" class=\"data row5 col0\" >1631</td>\n",
       "      <td id=\"T_1f7fe_row5_col1\" class=\"data row5 col1\" >Transformers: The Last Knight</td>\n",
       "      <td id=\"T_1f7fe_row5_col2\" class=\"data row5 col2\" >260000000</td>\n",
       "      <td id=\"T_1f7fe_row5_col3\" class=\"data row5 col3\" >604942143</td>\n",
       "    </tr>\n",
       "    <tr>\n",
       "      <th id=\"T_1f7fe_level0_row6\" class=\"row_heading level0 row6\" >2532</th>\n",
       "      <td id=\"T_1f7fe_row6_col0\" class=\"data row6 col0\" >2533</td>\n",
       "      <td id=\"T_1f7fe_row6_col1\" class=\"data row6 col1\" >The Hobbit: An Unexpected Journey</td>\n",
       "      <td id=\"T_1f7fe_row6_col2\" class=\"data row6 col2\" >250000000</td>\n",
       "      <td id=\"T_1f7fe_row6_col3\" class=\"data row6 col3\" >1021103568</td>\n",
       "    </tr>\n",
       "    <tr>\n",
       "      <th id=\"T_1f7fe_level0_row7\" class=\"row_heading level0 row7\" >961</th>\n",
       "      <td id=\"T_1f7fe_row7_col0\" class=\"data row7 col0\" >962</td>\n",
       "      <td id=\"T_1f7fe_row7_col1\" class=\"data row7 col1\" >Harry Potter and the Half-Blood Prince</td>\n",
       "      <td id=\"T_1f7fe_row7_col2\" class=\"data row7 col2\" >250000000</td>\n",
       "      <td id=\"T_1f7fe_row7_col3\" class=\"data row7 col3\" >933959197</td>\n",
       "    </tr>\n",
       "    <tr>\n",
       "      <th id=\"T_1f7fe_level0_row8\" class=\"row_heading level0 row8\" >906</th>\n",
       "      <td id=\"T_1f7fe_row8_col0\" class=\"data row8 col0\" >907</td>\n",
       "      <td id=\"T_1f7fe_row8_col1\" class=\"data row8 col1\" >The Dark Knight Rises</td>\n",
       "      <td id=\"T_1f7fe_row8_col2\" class=\"data row8 col2\" >250000000</td>\n",
       "      <td id=\"T_1f7fe_row8_col3\" class=\"data row8 col3\" >1084939099</td>\n",
       "    </tr>\n",
       "    <tr>\n",
       "      <th id=\"T_1f7fe_level0_row9\" class=\"row_heading level0 row9\" >666</th>\n",
       "      <td id=\"T_1f7fe_row9_col0\" class=\"data row9 col0\" >667</td>\n",
       "      <td id=\"T_1f7fe_row9_col1\" class=\"data row9 col1\" >The Hobbit: The Desolation of Smaug</td>\n",
       "      <td id=\"T_1f7fe_row9_col2\" class=\"data row9 col2\" >250000000</td>\n",
       "      <td id=\"T_1f7fe_row9_col3\" class=\"data row9 col3\" >958400000</td>\n",
       "    </tr>\n",
       "  </tbody>\n",
       "</table>\n"
      ],
      "text/plain": [
       "<pandas.io.formats.style.Styler at 0x22e78cc8090>"
      ]
     },
     "execution_count": 41,
     "metadata": {},
     "output_type": "execute_result"
    }
   ],
   "source": [
    "train[['id','title','budget','revenue']].sort_values(['budget'],ascending=False).head(10).style.background_gradient(subset=['budget','revenue'],cmap='PuBu')"
   ]
  },
  {
   "attachments": {},
   "cell_type": "markdown",
   "metadata": {},
   "source": [
    "3. Which movide is the longest?"
   ]
  },
  {
   "cell_type": "code",
   "execution_count": 42,
   "metadata": {},
   "outputs": [
    {
     "data": {
      "text/html": [
       "<div>\n",
       "<style scoped>\n",
       "    .dataframe tbody tr th:only-of-type {\n",
       "        vertical-align: middle;\n",
       "    }\n",
       "\n",
       "    .dataframe tbody tr th {\n",
       "        vertical-align: top;\n",
       "    }\n",
       "\n",
       "    .dataframe thead th {\n",
       "        text-align: right;\n",
       "    }\n",
       "</style>\n",
       "<table border=\"1\" class=\"dataframe\">\n",
       "  <thead>\n",
       "    <tr style=\"text-align: right;\">\n",
       "      <th></th>\n",
       "      <th>id</th>\n",
       "      <th>budget</th>\n",
       "      <th>imdb_id</th>\n",
       "      <th>original_language</th>\n",
       "      <th>original_title</th>\n",
       "      <th>popularity</th>\n",
       "      <th>poster_path</th>\n",
       "      <th>release_date</th>\n",
       "      <th>runtime</th>\n",
       "      <th>status</th>\n",
       "      <th>title</th>\n",
       "      <th>revenue</th>\n",
       "      <th>release_day</th>\n",
       "      <th>release_weekday</th>\n",
       "      <th>release_month</th>\n",
       "      <th>release_year</th>\n",
       "    </tr>\n",
       "  </thead>\n",
       "  <tbody>\n",
       "    <tr>\n",
       "      <th>1211</th>\n",
       "      <td>1212</td>\n",
       "      <td>18000000</td>\n",
       "      <td>tt1321865</td>\n",
       "      <td>en</td>\n",
       "      <td>Carlos</td>\n",
       "      <td>4.558075</td>\n",
       "      <td>/obHJeOHn8J5XD049nj7KVSpAMEW.jpg</td>\n",
       "      <td>2010-05-19</td>\n",
       "      <td>338.0</td>\n",
       "      <td>Released</td>\n",
       "      <td>Carlos</td>\n",
       "      <td>871279</td>\n",
       "      <td>19</td>\n",
       "      <td>2</td>\n",
       "      <td>5</td>\n",
       "      <td>2010</td>\n",
       "    </tr>\n",
       "  </tbody>\n",
       "</table>\n",
       "</div>"
      ],
      "text/plain": [
       "        id    budget    imdb_id original_language original_title  popularity  \\\n",
       "1211  1212  18000000  tt1321865                en         Carlos    4.558075   \n",
       "\n",
       "                           poster_path release_date  runtime    status  \\\n",
       "1211  /obHJeOHn8J5XD049nj7KVSpAMEW.jpg   2010-05-19    338.0  Released   \n",
       "\n",
       "       title  revenue  release_day  release_weekday  release_month  \\\n",
       "1211  Carlos   871279           19                2              5   \n",
       "\n",
       "      release_year  \n",
       "1211          2010  "
      ]
     },
     "execution_count": 42,
     "metadata": {},
     "output_type": "execute_result"
    }
   ],
   "source": [
    "train[train['runtime']==train['runtime'].max()]"
   ]
  },
  {
   "cell_type": "code",
   "execution_count": 43,
   "metadata": {},
   "outputs": [
    {
     "data": {
      "text/plain": [
       "(array([ 14.,   1.,   0.,   0.,   2.,   0.,   1.,   6.,  33., 132., 433.,\n",
       "        711., 523., 407., 269., 184., 110.,  53.,  45.,  27.,  16.,  13.,\n",
       "         10.,   2.,   1.,   4.,   1.,   0.,   0.,   1.,   0.,   0.,   0.,\n",
       "          0.,   0.,   0.,   0.,   0.,   0.,   1.]),\n",
       " array([0.        , 0.14083333, 0.28166667, 0.4225    , 0.56333333,\n",
       "        0.70416667, 0.845     , 0.98583333, 1.12666667, 1.2675    ,\n",
       "        1.40833333, 1.54916667, 1.69      , 1.83083333, 1.97166667,\n",
       "        2.1125    , 2.25333333, 2.39416667, 2.535     , 2.67583333,\n",
       "        2.81666667, 2.9575    , 3.09833333, 3.23916667, 3.38      ,\n",
       "        3.52083333, 3.66166667, 3.8025    , 3.94333333, 4.08416667,\n",
       "        4.225     , 4.36583333, 4.50666667, 4.6475    , 4.78833333,\n",
       "        4.92916667, 5.07      , 5.21083333, 5.35166667, 5.4925    ,\n",
       "        5.63333333]),\n",
       " <BarContainer object of 40 artists>)"
      ]
     },
     "execution_count": 43,
     "metadata": {},
     "output_type": "execute_result"
    },
    {
     "data": {
      "text/plain": [
       "Text(0.5, 1.0, 'Distribution of length of film in hours')"
      ]
     },
     "execution_count": 43,
     "metadata": {},
     "output_type": "execute_result"
    },
    {
     "data": {
      "text/plain": [
       "Text(0.5, 0, 'Duration of Movie in Hours')"
      ]
     },
     "execution_count": 43,
     "metadata": {},
     "output_type": "execute_result"
    },
    {
     "data": {
      "text/plain": [
       "Text(0, 0.5, 'Number of Movies')"
      ]
     },
     "execution_count": 43,
     "metadata": {},
     "output_type": "execute_result"
    },
    {
     "data": {
      "image/png": "[encoded data removed]",
      "text/plain": [
       "<Figure size 640x480 with 1 Axes>"
      ]
     },
     "metadata": {},
     "output_type": "display_data"
    }
   ],
   "source": [
    "plt.hist(train['runtime'].fillna(0)/60,bins=40)\n",
    "plt.title('Distribution of length of film in hours',fontsize=16,color='white')\n",
    "plt.xlabel('Duration of Movie in Hours')\n",
    "plt.ylabel('Number of Movies')"
   ]
  },
  {
   "cell_type": "code",
   "execution_count": 44,
   "metadata": {},
   "outputs": [
    {
     "data": {
      "text/html": [
       "<style type=\"text/css\">\n",
       "#T_86012_row0_col2, #T_86012_row4_col3 {\n",
       "  background-color: #004529;\n",
       "  color: #f1f1f1;\n",
       "}\n",
       "#T_86012_row0_col3 {\n",
       "  background-color: #c9e99c;\n",
       "  color: #000000;\n",
       "}\n",
       "#T_86012_row1_col2 {\n",
       "  background-color: #b2df90;\n",
       "  color: #000000;\n",
       "}\n",
       "#T_86012_row1_col3 {\n",
       "  background-color: #66bd70;\n",
       "  color: #f1f1f1;\n",
       "}\n",
       "#T_86012_row2_col2 {\n",
       "  background-color: #eef9b3;\n",
       "  color: #000000;\n",
       "}\n",
       "#T_86012_row2_col3 {\n",
       "  background-color: #e4f4ab;\n",
       "  color: #000000;\n",
       "}\n",
       "#T_86012_row3_col2 {\n",
       "  background-color: #f0f9b4;\n",
       "  color: #000000;\n",
       "}\n",
       "#T_86012_row3_col3 {\n",
       "  background-color: #1a7d40;\n",
       "  color: #f1f1f1;\n",
       "}\n",
       "#T_86012_row4_col2, #T_86012_row5_col3 {\n",
       "  background-color: #f7fcbc;\n",
       "  color: #000000;\n",
       "}\n",
       "#T_86012_row5_col2 {\n",
       "  background-color: #f8fcbd;\n",
       "  color: #000000;\n",
       "}\n",
       "#T_86012_row6_col2 {\n",
       "  background-color: #f8fcc0;\n",
       "  color: #000000;\n",
       "}\n",
       "#T_86012_row6_col3 {\n",
       "  background-color: #dcf1a5;\n",
       "  color: #000000;\n",
       "}\n",
       "#T_86012_row7_col2 {\n",
       "  background-color: #fafdcc;\n",
       "  color: #000000;\n",
       "}\n",
       "#T_86012_row7_col3, #T_86012_row9_col2 {\n",
       "  background-color: #ffffe5;\n",
       "  color: #000000;\n",
       "}\n",
       "#T_86012_row8_col2 {\n",
       "  background-color: #feffe1;\n",
       "  color: #000000;\n",
       "}\n",
       "#T_86012_row8_col3 {\n",
       "  background-color: #fdfed9;\n",
       "  color: #000000;\n",
       "}\n",
       "#T_86012_row9_col3 {\n",
       "  background-color: #e9f6af;\n",
       "  color: #000000;\n",
       "}\n",
       "</style>\n",
       "<table id=\"T_86012\">\n",
       "  <thead>\n",
       "    <tr>\n",
       "      <th class=\"blank level0\" >&nbsp;</th>\n",
       "      <th id=\"T_86012_level0_col0\" class=\"col_heading level0 col0\" >id</th>\n",
       "      <th id=\"T_86012_level0_col1\" class=\"col_heading level0 col1\" >title</th>\n",
       "      <th id=\"T_86012_level0_col2\" class=\"col_heading level0 col2\" >runtime</th>\n",
       "      <th id=\"T_86012_level0_col3\" class=\"col_heading level0 col3\" >budget</th>\n",
       "      <th id=\"T_86012_level0_col4\" class=\"col_heading level0 col4\" >revenue</th>\n",
       "    </tr>\n",
       "  </thead>\n",
       "  <tbody>\n",
       "    <tr>\n",
       "      <th id=\"T_86012_level0_row0\" class=\"row_heading level0 row0\" >1211</th>\n",
       "      <td id=\"T_86012_row0_col0\" class=\"data row0 col0\" >1212</td>\n",
       "      <td id=\"T_86012_row0_col1\" class=\"data row0 col1\" >Carlos</td>\n",
       "      <td id=\"T_86012_row0_col2\" class=\"data row0 col2\" >338.000000</td>\n",
       "      <td id=\"T_86012_row0_col3\" class=\"data row0 col3\" >18000000</td>\n",
       "      <td id=\"T_86012_row0_col4\" class=\"data row0 col4\" >871279</td>\n",
       "    </tr>\n",
       "    <tr>\n",
       "      <th id=\"T_86012_level0_row1\" class=\"row_heading level0 row1\" >1922</th>\n",
       "      <td id=\"T_86012_row1_col0\" class=\"data row1 col0\" >1923</td>\n",
       "      <td id=\"T_86012_row1_col1\" class=\"data row1 col1\" >Cleopatra</td>\n",
       "      <td id=\"T_86012_row1_col2\" class=\"data row1 col2\" >248.000000</td>\n",
       "      <td id=\"T_86012_row1_col3\" class=\"data row1 col3\" >31115000</td>\n",
       "      <td id=\"T_86012_row1_col4\" class=\"data row1 col4\" >71000000</td>\n",
       "    </tr>\n",
       "    <tr>\n",
       "      <th id=\"T_86012_level0_row2\" class=\"row_heading level0 row2\" >523</th>\n",
       "      <td id=\"T_86012_row2_col0\" class=\"data row2 col0\" >524</td>\n",
       "      <td id=\"T_86012_row2_col1\" class=\"data row2 col1\" >The Ten Commandments</td>\n",
       "      <td id=\"T_86012_row2_col2\" class=\"data row2 col2\" >220.000000</td>\n",
       "      <td id=\"T_86012_row2_col3\" class=\"data row2 col3\" >13000000</td>\n",
       "      <td id=\"T_86012_row2_col4\" class=\"data row2 col4\" >122700000</td>\n",
       "    </tr>\n",
       "    <tr>\n",
       "      <th id=\"T_86012_level0_row3\" class=\"row_heading level0 row3\" >1302</th>\n",
       "      <td id=\"T_86012_row3_col0\" class=\"data row3 col0\" >1303</td>\n",
       "      <td id=\"T_86012_row3_col1\" class=\"data row3 col1\" >Heaven's Gate</td>\n",
       "      <td id=\"T_86012_row3_col2\" class=\"data row3 col2\" >219.000000</td>\n",
       "      <td id=\"T_86012_row3_col3\" class=\"data row3 col3\" >44000000</td>\n",
       "      <td id=\"T_86012_row3_col4\" class=\"data row3 col4\" >3484331</td>\n",
       "    </tr>\n",
       "    <tr>\n",
       "      <th id=\"T_86012_level0_row4\" class=\"row_heading level0 row4\" >1914</th>\n",
       "      <td id=\"T_86012_row4_col0\" class=\"data row4 col0\" >1915</td>\n",
       "      <td id=\"T_86012_row4_col1\" class=\"data row4 col1\" >Gods and Generals</td>\n",
       "      <td id=\"T_86012_row4_col2\" class=\"data row4 col2\" >214.000000</td>\n",
       "      <td id=\"T_86012_row4_col3\" class=\"data row4 col3\" >56000000</td>\n",
       "      <td id=\"T_86012_row4_col4\" class=\"data row4 col4\" >12923936</td>\n",
       "    </tr>\n",
       "    <tr>\n",
       "      <th id=\"T_86012_level0_row5\" class=\"row_heading level0 row5\" >2353</th>\n",
       "      <td id=\"T_86012_row5_col0\" class=\"data row5 col0\" >2354</td>\n",
       "      <td id=\"T_86012_row5_col1\" class=\"data row5 col1\" >Jodhaa Akbar</td>\n",
       "      <td id=\"T_86012_row5_col2\" class=\"data row5 col2\" >213.000000</td>\n",
       "      <td id=\"T_86012_row5_col3\" class=\"data row5 col3\" >8376800</td>\n",
       "      <td id=\"T_86012_row5_col4\" class=\"data row5 col4\" >13000000</td>\n",
       "    </tr>\n",
       "    <tr>\n",
       "      <th id=\"T_86012_level0_row6\" class=\"row_heading level0 row6\" >625</th>\n",
       "      <td id=\"T_86012_row6_col0\" class=\"data row6 col0\" >626</td>\n",
       "      <td id=\"T_86012_row6_col1\" class=\"data row6 col1\" >Ben-Hur</td>\n",
       "      <td id=\"T_86012_row6_col2\" class=\"data row6 col2\" >212.000000</td>\n",
       "      <td id=\"T_86012_row6_col3\" class=\"data row6 col3\" >15000000</td>\n",
       "      <td id=\"T_86012_row6_col4\" class=\"data row6 col4\" >146900000</td>\n",
       "    </tr>\n",
       "    <tr>\n",
       "      <th id=\"T_86012_level0_row7\" class=\"row_heading level0 row7\" >1975</th>\n",
       "      <td id=\"T_86012_row7_col0\" class=\"data row7 col0\" >1976</td>\n",
       "      <td id=\"T_86012_row7_col1\" class=\"data row7 col1\" >Chapiteau-Show</td>\n",
       "      <td id=\"T_86012_row7_col2\" class=\"data row7 col2\" >207.000000</td>\n",
       "      <td id=\"T_86012_row7_col3\" class=\"data row7 col3\" >2000000</td>\n",
       "      <td id=\"T_86012_row7_col4\" class=\"data row7 col4\" >393816</td>\n",
       "    </tr>\n",
       "    <tr>\n",
       "      <th id=\"T_86012_level0_row8\" class=\"row_heading level0 row8\" >1731</th>\n",
       "      <td id=\"T_86012_row8_col0\" class=\"data row8 col0\" >1732</td>\n",
       "      <td id=\"T_86012_row8_col1\" class=\"data row8 col1\" >Hey Ram</td>\n",
       "      <td id=\"T_86012_row8_col2\" class=\"data row8 col2\" >199.000000</td>\n",
       "      <td id=\"T_86012_row8_col3\" class=\"data row8 col3\" >3900000</td>\n",
       "      <td id=\"T_86012_row8_col4\" class=\"data row8 col4\" >4900000</td>\n",
       "    </tr>\n",
       "    <tr>\n",
       "      <th id=\"T_86012_level0_row9\" class=\"row_heading level0 row9\" >2120</th>\n",
       "      <td id=\"T_86012_row9_col0\" class=\"data row9 col0\" >2121</td>\n",
       "      <td id=\"T_86012_row9_col1\" class=\"data row9 col1\" >Spartacus</td>\n",
       "      <td id=\"T_86012_row9_col2\" class=\"data row9 col2\" >197.000000</td>\n",
       "      <td id=\"T_86012_row9_col3\" class=\"data row9 col3\" >12000000</td>\n",
       "      <td id=\"T_86012_row9_col4\" class=\"data row9 col4\" >60000000</td>\n",
       "    </tr>\n",
       "  </tbody>\n",
       "</table>\n"
      ],
      "text/plain": [
       "<pandas.io.formats.style.Styler at 0x22e78c7d110>"
      ]
     },
     "execution_count": 44,
     "metadata": {},
     "output_type": "execute_result"
    }
   ],
   "source": [
    "train[['id','title','runtime','budget','revenue']].sort_values(['runtime'],ascending=False).head(10).style.background_gradient(subset=['runtime','budget'],cmap='YlGn')"
   ]
  },
  {
   "attachments": {},
   "cell_type": "markdown",
   "metadata": {},
   "source": [
    "Carlos is the longest movie, with 338 minutes (5 hours and 38 minutes) of runtime."
   ]
  },
  {
   "attachments": {},
   "cell_type": "markdown",
   "metadata": {},
   "source": [
    "4. In which year most movies were released?"
   ]
  },
  {
   "cell_type": "code",
   "execution_count": 45,
   "metadata": {},
   "outputs": [
    {
     "data": {
      "text/plain": [
       "<Figure size 2000x1200 with 0 Axes>"
      ]
     },
     "execution_count": 45,
     "metadata": {},
     "output_type": "execute_result"
    },
    {
     "data": {
      "text/plain": [
       "<Axes: ylabel='count'>"
      ]
     },
     "execution_count": 45,
     "metadata": {},
     "output_type": "execute_result"
    },
    {
     "data": {
      "text/plain": [
       "Text(0.5, 1.0, 'Movie Release count by Year')"
      ]
     },
     "execution_count": 45,
     "metadata": {},
     "output_type": "execute_result"
    },
    {
     "data": {
      "text/plain": [
       "Text(0.5, 0, 'Release Year')"
      ]
     },
     "execution_count": 45,
     "metadata": {},
     "output_type": "execute_result"
    },
    {
     "data": {
      "text/plain": [
       "Text(0, 0.5, 'Number of Movies Released')"
      ]
     },
     "execution_count": 45,
     "metadata": {},
     "output_type": "execute_result"
    },
    {
     "data": {
      "text/plain": [
       "(array([0]), [Text(0, 0, '0')])"
      ]
     },
     "execution_count": 45,
     "metadata": {},
     "output_type": "execute_result"
    },
    {
     "data": {
      "image/png": "[encoded data removed]",
      "text/plain": [
       "<Figure size 2000x1200 with 1 Axes>"
      ]
     },
     "metadata": {},
     "output_type": "display_data"
    }
   ],
   "source": [
    "plt.figure(figsize=(20, 12))\n",
    "sns.countplot(train['release_year'].sort_values(), palette=\"Dark2\", edgecolor=(0, 0, 0))\n",
    "plt.title(\"Movie Release count by Year\", fontsize=20)\n",
    "plt.xlabel('Release Year')\n",
    "plt.ylabel('Number of Movies Released')\n",
    "plt.xticks(fontsize=12, rotation=90)\n",
    "plt.show()"
   ]
  },
  {
   "cell_type": "code",
   "execution_count": 46,
   "metadata": {},
   "outputs": [
    {
     "data": {
      "text/plain": [
       "release_year\n",
       "2013    141\n",
       "2015    128\n",
       "2010    126\n",
       "2012    125\n",
       "2016    125\n",
       "Name: count, dtype: int64"
      ]
     },
     "execution_count": 46,
     "metadata": {},
     "output_type": "execute_result"
    }
   ],
   "source": [
    "train['release_year'].value_counts().head()"
   ]
  },
  {
   "attachments": {},
   "cell_type": "markdown",
   "metadata": {},
   "source": [
    "In 2013 total 141 movies were released."
   ]
  },
  {
   "attachments": {},
   "cell_type": "markdown",
   "metadata": {},
   "source": [
    "5. Movies with Highest and Lowest ratings."
   ]
  },
  {
   "cell_type": "code",
   "execution_count": 47,
   "metadata": {},
   "outputs": [
    {
     "data": {
      "text/html": [
       "<div>\n",
       "<style scoped>\n",
       "    .dataframe tbody tr th:only-of-type {\n",
       "        vertical-align: middle;\n",
       "    }\n",
       "\n",
       "    .dataframe tbody tr th {\n",
       "        vertical-align: top;\n",
       "    }\n",
       "\n",
       "    .dataframe thead th {\n",
       "        text-align: right;\n",
       "    }\n",
       "</style>\n",
       "<table border=\"1\" class=\"dataframe\">\n",
       "  <thead>\n",
       "    <tr style=\"text-align: right;\">\n",
       "      <th></th>\n",
       "      <th>original_title</th>\n",
       "      <th>popularity</th>\n",
       "      <th>release_date</th>\n",
       "      <th>revenue</th>\n",
       "    </tr>\n",
       "  </thead>\n",
       "  <tbody>\n",
       "    <tr>\n",
       "      <th>518</th>\n",
       "      <td>Wonder Woman</td>\n",
       "      <td>294.337037</td>\n",
       "      <td>2017-05-30</td>\n",
       "      <td>820580447</td>\n",
       "    </tr>\n",
       "  </tbody>\n",
       "</table>\n",
       "</div>"
      ],
      "text/plain": [
       "    original_title  popularity release_date    revenue\n",
       "518   Wonder Woman  294.337037   2017-05-30  820580447"
      ]
     },
     "execution_count": 47,
     "metadata": {},
     "output_type": "execute_result"
    }
   ],
   "source": [
    "train[train['popularity']==train['popularity'].max()][['original_title','popularity','release_date','revenue']]"
   ]
  },
  {
   "cell_type": "code",
   "execution_count": 48,
   "metadata": {},
   "outputs": [
    {
     "data": {
      "text/html": [
       "<div>\n",
       "<style scoped>\n",
       "    .dataframe tbody tr th:only-of-type {\n",
       "        vertical-align: middle;\n",
       "    }\n",
       "\n",
       "    .dataframe tbody tr th {\n",
       "        vertical-align: top;\n",
       "    }\n",
       "\n",
       "    .dataframe thead th {\n",
       "        text-align: right;\n",
       "    }\n",
       "</style>\n",
       "<table border=\"1\" class=\"dataframe\">\n",
       "  <thead>\n",
       "    <tr style=\"text-align: right;\">\n",
       "      <th></th>\n",
       "      <th>original_title</th>\n",
       "      <th>popularity</th>\n",
       "      <th>release_date</th>\n",
       "      <th>revenue</th>\n",
       "    </tr>\n",
       "  </thead>\n",
       "  <tbody>\n",
       "    <tr>\n",
       "      <th>2556</th>\n",
       "      <td>Big Time</td>\n",
       "      <td>0.000001</td>\n",
       "      <td>1988-09-15</td>\n",
       "      <td>148426</td>\n",
       "    </tr>\n",
       "  </tbody>\n",
       "</table>\n",
       "</div>"
      ],
      "text/plain": [
       "     original_title  popularity release_date  revenue\n",
       "2556       Big Time    0.000001   1988-09-15   148426"
      ]
     },
     "execution_count": 48,
     "metadata": {},
     "output_type": "execute_result"
    }
   ],
   "source": [
    "train[train['popularity']==train['popularity'].min()][['original_title','popularity','release_date','revenue']]\n"
   ]
  },
  {
   "attachments": {},
   "cell_type": "markdown",
   "metadata": {},
   "source": [
    "Lets create popularity distribution plot."
   ]
  },
  {
   "cell_type": "code",
   "execution_count": 49,
   "metadata": {},
   "outputs": [
    {
     "data": {
      "text/plain": [
       "<Figure size 2000x1200 with 0 Axes>"
      ]
     },
     "execution_count": 49,
     "metadata": {},
     "output_type": "execute_result"
    },
    {
     "name": "stderr",
     "output_type": "stream",
     "text": [
      "C:\\Users\\gohpaulc\\AppData\\Local\\Temp\\ipykernel_20244\\1062240037.py:3: UserWarning: \n",
      "\n",
      "`distplot` is a deprecated function and will be removed in seaborn v0.14.0.\n",
      "\n",
      "Please adapt your code to use either `displot` (a figure-level function with\n",
      "similar flexibility) or `histplot` (an axes-level function for histograms).\n",
      "\n",
      "For a guide to updating your code to use the new functions, please see\n",
      "https://gist.github.com/mwaskom/de44147ed2974457ad6372750bbe5751\n",
      "\n",
      "  sns.distplot(train['popularity'], kde=False)\n"
     ]
    },
    {
     "data": {
      "text/plain": [
       "<Axes: xlabel='popularity'>"
      ]
     },
     "execution_count": 49,
     "metadata": {},
     "output_type": "execute_result"
    },
    {
     "data": {
      "text/plain": [
       "Text(0.5, 1.0, 'Movie Popularity Count')"
      ]
     },
     "execution_count": 49,
     "metadata": {},
     "output_type": "execute_result"
    },
    {
     "data": {
      "text/plain": [
       "Text(0.5, 0, 'Popularity')"
      ]
     },
     "execution_count": 49,
     "metadata": {},
     "output_type": "execute_result"
    },
    {
     "data": {
      "text/plain": [
       "Text(0, 0.5, 'Count')"
      ]
     },
     "execution_count": 49,
     "metadata": {},
     "output_type": "execute_result"
    },
    {
     "data": {
      "text/plain": [
       "(array([-50.,   0.,  50., 100., 150., 200., 250., 300., 350.]),\n",
       " [Text(-50.0, 0, '−50'),\n",
       "  Text(0.0, 0, '0'),\n",
       "  Text(50.0, 0, '50'),\n",
       "  Text(100.0, 0, '100'),\n",
       "  Text(150.0, 0, '150'),\n",
       "  Text(200.0, 0, '200'),\n",
       "  Text(250.0, 0, '250'),\n",
       "  Text(300.0, 0, '300'),\n",
       "  Text(350.0, 0, '350')])"
      ]
     },
     "execution_count": 49,
     "metadata": {},
     "output_type": "execute_result"
    },
    {
     "data": {
      "image/png": "[encoded data removed]",
      "text/plain": [
       "<Figure size 2000x1200 with 1 Axes>"
      ]
     },
     "metadata": {},
     "output_type": "display_data"
    }
   ],
   "source": [
    "plt.figure(figsize=(20,12))\n",
    "edgecolor=(0,0,0),\n",
    "sns.distplot(train['popularity'], kde=False)\n",
    "plt.title(\"Movie Popularity Count\",fontsize=20)\n",
    "plt.xlabel('Popularity')\n",
    "plt.ylabel('Count')\n",
    "plt.xticks(fontsize=12,rotation=90)\n",
    "plt.show()"
   ]
  },
  {
   "attachments": {},
   "cell_type": "markdown",
   "metadata": {},
   "source": [
    "Wonder Woman movie have highest popularity of 294.33 whereas Big Time movie have lowest popularity which is 0."
   ]
  },
  {
   "attachments": {},
   "cell_type": "markdown",
   "metadata": {},
   "source": [
    "6. In which month most movies are released from 1921 to 2017?"
   ]
  },
  {
   "cell_type": "code",
   "execution_count": 50,
   "metadata": {},
   "outputs": [
    {
     "data": {
      "text/plain": [
       "<Figure size 2000x1200 with 0 Axes>"
      ]
     },
     "execution_count": 50,
     "metadata": {},
     "output_type": "execute_result"
    },
    {
     "data": {
      "text/plain": [
       "<Axes: ylabel='count'>"
      ]
     },
     "execution_count": 50,
     "metadata": {},
     "output_type": "execute_result"
    },
    {
     "data": {
      "text/plain": [
       "Text(0.5, 1.0, 'Movie Release count by Month')"
      ]
     },
     "execution_count": 50,
     "metadata": {},
     "output_type": "execute_result"
    },
    {
     "data": {
      "text/plain": [
       "Text(0.5, 0, 'Release Month')"
      ]
     },
     "execution_count": 50,
     "metadata": {},
     "output_type": "execute_result"
    },
    {
     "data": {
      "text/plain": [
       "Text(0, 0.5, 'Number of Movies Release')"
      ]
     },
     "execution_count": 50,
     "metadata": {},
     "output_type": "execute_result"
    },
    {
     "data": {
      "text/plain": [
       "(array([0]), [Text(0, 0, '0')])"
      ]
     },
     "execution_count": 50,
     "metadata": {},
     "output_type": "execute_result"
    },
    {
     "data": {
      "image/png": "[encoded data removed]",
      "text/plain": [
       "<Figure size 2000x1200 with 1 Axes>"
      ]
     },
     "metadata": {},
     "output_type": "display_data"
    }
   ],
   "source": [
    "plt.figure(figsize=(20,12))\n",
    "edgecolor=(0,0,0),\n",
    "sns.countplot(train['release_month'].sort_values(), palette = \"Dark2\", edgecolor=(0,0,0))\n",
    "plt.title(\"Movie Release count by Month\",fontsize=20)\n",
    "plt.xlabel('Release Month')\n",
    "plt.ylabel('Number of Movies Release')\n",
    "plt.xticks(fontsize=12)\n",
    "plt.show()"
   ]
  },
  {
   "cell_type": "code",
   "execution_count": 51,
   "metadata": {},
   "outputs": [
    {
     "data": {
      "text/plain": [
       "release_month\n",
       "9     362\n",
       "10    307\n",
       "12    263\n",
       "8     256\n",
       "4     245\n",
       "3     238\n",
       "6     237\n",
       "2     226\n",
       "5     224\n",
       "11    221\n",
       "1     212\n",
       "7     209\n",
       "Name: count, dtype: int64"
      ]
     },
     "execution_count": 51,
     "metadata": {},
     "output_type": "execute_result"
    }
   ],
   "source": [
    "train['release_month'].value_counts()"
   ]
  },
  {
   "attachments": {},
   "cell_type": "markdown",
   "metadata": {},
   "source": [
    "In september month most movies are relesed which is around 362."
   ]
  },
  {
   "attachments": {},
   "cell_type": "markdown",
   "metadata": {},
   "source": [
    "7. On which date of month most movies are released?"
   ]
  },
  {
   "cell_type": "code",
   "execution_count": 52,
   "metadata": {},
   "outputs": [
    {
     "data": {
      "text/plain": [
       "<Figure size 2000x1200 with 0 Axes>"
      ]
     },
     "execution_count": 52,
     "metadata": {},
     "output_type": "execute_result"
    },
    {
     "data": {
      "text/plain": [
       "<Axes: ylabel='count'>"
      ]
     },
     "execution_count": 52,
     "metadata": {},
     "output_type": "execute_result"
    },
    {
     "data": {
      "text/plain": [
       "Text(0.5, 1.0, 'Movie Release count by Day of Month')"
      ]
     },
     "execution_count": 52,
     "metadata": {},
     "output_type": "execute_result"
    },
    {
     "data": {
      "text/plain": [
       "Text(0.5, 0, 'Release Day')"
      ]
     },
     "execution_count": 52,
     "metadata": {},
     "output_type": "execute_result"
    },
    {
     "data": {
      "text/plain": [
       "Text(0, 0.5, 'Number of Movies Release')"
      ]
     },
     "execution_count": 52,
     "metadata": {},
     "output_type": "execute_result"
    },
    {
     "data": {
      "text/plain": [
       "(array([0]), [Text(0, 0, '0')])"
      ]
     },
     "execution_count": 52,
     "metadata": {},
     "output_type": "execute_result"
    },
    {
     "data": {
      "image/png": "[encoded data removed]",
      "text/plain": [
       "<Figure size 2000x1200 with 1 Axes>"
      ]
     },
     "metadata": {},
     "output_type": "display_data"
    }
   ],
   "source": [
    "plt.figure(figsize=(20,12))\n",
    "edgecolor=(0,0,0),\n",
    "sns.countplot(train['release_day'].sort_values(), palette = \"Dark2\", edgecolor=(0,0,0))\n",
    "plt.title(\"Movie Release count by Day of Month\",fontsize=20)\n",
    "plt.xlabel('Release Day')\n",
    "plt.ylabel('Number of Movies Release')\n",
    "plt.xticks(fontsize=12)\n",
    "plt.show()"
   ]
  },
  {
   "cell_type": "code",
   "execution_count": 53,
   "metadata": {},
   "outputs": [
    {
     "data": {
      "text/plain": [
       "release_day\n",
       "1     152\n",
       "15    126\n",
       "12    122\n",
       "7     110\n",
       "6     107\n",
       "16    106\n",
       "25    106\n",
       "13    106\n",
       "17    106\n",
       "9     104\n",
       "10    104\n",
       "14    104\n",
       "22    102\n",
       "8     101\n",
       "21     99\n",
       "18     98\n",
       "24     97\n",
       "5      96\n",
       "2      94\n",
       "19     94\n",
       "11     93\n",
       "4      88\n",
       "20     87\n",
       "23     85\n",
       "26     82\n",
       "3      80\n",
       "30     75\n",
       "28     74\n",
       "27     74\n",
       "29     72\n",
       "31     56\n",
       "Name: count, dtype: int64"
      ]
     },
     "execution_count": 53,
     "metadata": {},
     "output_type": "execute_result"
    }
   ],
   "source": [
    "train['release_day'].value_counts()"
   ]
  },
  {
   "attachments": {},
   "cell_type": "markdown",
   "metadata": {},
   "source": [
    "On first date highest number of movies are released, 152."
   ]
  },
  {
   "attachments": {},
   "cell_type": "markdown",
   "metadata": {},
   "source": [
    "8. On which day of week most movies are released?"
   ]
  },
  {
   "cell_type": "code",
   "execution_count": 54,
   "metadata": {},
   "outputs": [
    {
     "data": {
      "text/plain": [
       "<Figure size 2000x1200 with 0 Axes>"
      ]
     },
     "execution_count": 54,
     "metadata": {},
     "output_type": "execute_result"
    },
    {
     "data": {
      "text/plain": [
       "<Axes: ylabel='count'>"
      ]
     },
     "execution_count": 54,
     "metadata": {},
     "output_type": "execute_result"
    },
    {
     "data": {
      "text/plain": [
       "Text(0.5, 0, 'Release Day of Week')"
      ]
     },
     "execution_count": 54,
     "metadata": {},
     "output_type": "execute_result"
    },
    {
     "data": {
      "text/plain": [
       "Text(0, 0.5, 'Number of Movies Release')"
      ]
     },
     "execution_count": 54,
     "metadata": {},
     "output_type": "execute_result"
    },
    {
     "data": {
      "text/plain": [
       "([<matplotlib.axis.XTick at 0x22e001e4290>,\n",
       "  <matplotlib.axis.XTick at 0x22e001cb590>,\n",
       "  <matplotlib.axis.XTick at 0x22e7955cad0>,\n",
       "  <matplotlib.axis.XTick at 0x22e0010cfd0>,\n",
       "  <matplotlib.axis.XTick at 0x22e0010f2d0>,\n",
       "  <matplotlib.axis.XTick at 0x22e00ef0110>,\n",
       "  <matplotlib.axis.XTick at 0x22e001628d0>],\n",
       " [Text(0, 0, 'Mon'),\n",
       "  Text(1, 0, 'Tue'),\n",
       "  Text(2, 0, 'Wed'),\n",
       "  Text(3, 0, 'Thu'),\n",
       "  Text(4, 0, 'Fri'),\n",
       "  Text(5, 0, 'Sat'),\n",
       "  Text(6, 0, 'Sun')])"
      ]
     },
     "execution_count": 54,
     "metadata": {},
     "output_type": "execute_result"
    },
    {
     "data": {
      "image/png": "[encoded data removed]",
      "text/plain": [
       "<Figure size 2000x1200 with 1 Axes>"
      ]
     },
     "metadata": {},
     "output_type": "display_data"
    }
   ],
   "source": [
    "plt.figure(figsize=(20,12))\n",
    "sns.countplot(train['release_weekday'].sort_values(), palette='Dark2')\n",
    "loc = np.array(range(len(train['release_weekday'].unique())))\n",
    "day_labels = ['Mon', 'Tue', 'Wed', 'Thu', 'Fri', 'Sat', 'Sun']\n",
    "plt.xlabel('Release Day of Week')\n",
    "plt.ylabel('Number of Movies Release')\n",
    "plt.xticks(loc, day_labels, fontsize=12)\n",
    "plt.show()"
   ]
  },
  {
   "cell_type": "code",
   "execution_count": 55,
   "metadata": {},
   "outputs": [
    {
     "data": {
      "text/plain": [
       "release_weekday\n",
       "4    1335\n",
       "3     607\n",
       "2     450\n",
       "1     195\n",
       "5     155\n",
       "0     138\n",
       "6     120\n",
       "Name: count, dtype: int64"
      ]
     },
     "execution_count": 55,
     "metadata": {},
     "output_type": "execute_result"
    }
   ],
   "source": [
    "train['release_weekday'].value_counts()\n"
   ]
  },
  {
   "attachments": {},
   "cell_type": "markdown",
   "metadata": {},
   "source": [
    "Highest number of movies released on friday."
   ]
  }
 ],
 "metadata": {
  "kernelspec": {
   "display_name": "Python 3",
   "language": "python",
   "name": "python3"
  },
  "language_info": {
   "codemirror_mode": {
    "name": "ipython",
    "version": 3
   },
   "file_extension": ".py",
   "mimetype": "text/x-python",
   "name": "python",
   "nbconvert_exporter": "python",
   "pygments_lexer": "ipython3",
   "version": "3.11.3"
  },
  "orig_nbformat": 4
 },
 "nbformat": 4,
 "nbformat_minor": 2
}
